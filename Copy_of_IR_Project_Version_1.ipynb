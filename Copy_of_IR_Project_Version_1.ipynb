{
  "nbformat": 4,
  "nbformat_minor": 0,
  "metadata": {
    "colab": {
      "provenance": [],
      "mount_file_id": "1IHzeOfwahCcQDqw-sqE1ZvGkOzXHl0aR",
      "authorship_tag": "ABX9TyPP8RXuIlDsJMG6yD4MsKUU",
      "include_colab_link": true
    },
    "kernelspec": {
      "name": "python3",
      "display_name": "Python 3"
    },
    "language_info": {
      "name": "python"
    }
  },
  "cells": [
    {
      "cell_type": "markdown",
      "metadata": {
        "id": "view-in-github",
        "colab_type": "text"
      },
      "source": [
        "<a href=\"https://colab.research.google.com/github/DeepMangroliya/Information-Retrieval-Porject/blob/main/Copy_of_IR_Project_Version_1.ipynb\" target=\"_parent\"><img src=\"https://colab.research.google.com/assets/colab-badge.svg\" alt=\"Open In Colab\"/></a>"
      ]
    },
    {
      "cell_type": "code",
      "execution_count": 1,
      "metadata": {
        "colab": {
          "base_uri": "https://localhost:8080/"
        },
        "id": "liQIqAxIe2-i",
        "outputId": "08275b15-de28-48cf-bb7b-bd73e475cfa8"
      },
      "outputs": [
        {
          "output_type": "stream",
          "name": "stdout",
          "text": [
            "Cloning into 'rep-path-reasoning-recsys'...\n",
            "remote: Enumerating objects: 1460, done.\u001b[K\n",
            "remote: Counting objects: 100% (74/74), done.\u001b[K\n",
            "remote: Compressing objects: 100% (62/62), done.\u001b[K\n",
            "remote: Total 1460 (delta 35), reused 24 (delta 12), pack-reused 1386 (from 1)\u001b[K\n",
            "Receiving objects: 100% (1460/1460), 416.18 KiB | 2.68 MiB/s, done.\n",
            "Resolving deltas: 100% (1050/1050), done.\n"
          ]
        }
      ],
      "source": [
        "!git clone https://github.com/giacoballoccu/rep-path-reasoning-recsys"
      ]
    },
    {
      "cell_type": "code",
      "source": [
        "pwd"
      ],
      "metadata": {
        "colab": {
          "base_uri": "https://localhost:8080/",
          "height": 35
        },
        "id": "m0UZVD0sfPeA",
        "outputId": "fd42da95-5734-483d-a596-193152a765d9"
      },
      "execution_count": 2,
      "outputs": [
        {
          "output_type": "execute_result",
          "data": {
            "text/plain": [
              "'/content'"
            ],
            "application/vnd.google.colaboratory.intrinsic+json": {
              "type": "string"
            }
          },
          "metadata": {},
          "execution_count": 2
        }
      ]
    },
    {
      "cell_type": "code",
      "source": [
        "cd rep-path-reasoning-recsys"
      ],
      "metadata": {
        "colab": {
          "base_uri": "https://localhost:8080/"
        },
        "id": "Y32A8XRrfTg1",
        "outputId": "0f8c0b20-a778-467a-96ba-b0044743f10d"
      },
      "execution_count": 3,
      "outputs": [
        {
          "output_type": "stream",
          "name": "stdout",
          "text": [
            "/content/rep-path-reasoning-recsys\n"
          ]
        }
      ]
    },
    {
      "cell_type": "code",
      "source": [
        "ls"
      ],
      "metadata": {
        "colab": {
          "base_uri": "https://localhost:8080/"
        },
        "id": "WzGTG5dqff2t",
        "outputId": "56cc590c-4454-4319-b433-aa4a7ba3533d"
      },
      "execution_count": 4,
      "outputs": [
        {
          "output_type": "stream",
          "name": "stdout",
          "text": [
            "\u001b[0m\u001b[01;32mbuild_datasets.sh\u001b[0m*        map_dataset.py         reasoning_path.py        test.py\n",
            "env_setup.sh              \u001b[01;34mmappers\u001b[0m/               reasoning_path_utils.py  train.py\n",
            "evaluate.py               \u001b[01;34mmodels\u001b[0m/                rec_quality_metrics.py   utils.py\n",
            "gridsearch.py             prepare_datasets.py    requirements.txt\n",
            "knowledge_graph_utils.py  preprocess_dataset.py  setup.py\n",
            "LICENSE                   README.md              statistical_test.py\n"
          ]
        }
      ]
    },
    {
      "cell_type": "code",
      "source": [
        "!bash env_setup.sh"
      ],
      "metadata": {
        "colab": {
          "base_uri": "https://localhost:8080/"
        },
        "id": "iXtNPTagfg8z",
        "outputId": "6affbb8d-19ee-4c46-a2f8-e7a01fa9c4df"
      },
      "execution_count": 5,
      "outputs": [
        {
          "output_type": "stream",
          "name": "stdout",
          "text": [
            "Requirement already satisfied: easydict in /usr/local/lib/python3.10/dist-packages (from -r requirements.txt (line 1)) (1.13)\n",
            "Requirement already satisfied: wandb in /usr/local/lib/python3.10/dist-packages (from -r requirements.txt (line 2)) (0.18.7)\n",
            "Requirement already satisfied: pandas in /usr/local/lib/python3.10/dist-packages (from -r requirements.txt (line 3)) (2.2.2)\n",
            "Requirement already satisfied: numpy in /usr/local/lib/python3.10/dist-packages (from -r requirements.txt (line 4)) (1.26.4)\n",
            "Requirement already satisfied: click!=8.0.0,>=7.1 in /usr/local/lib/python3.10/dist-packages (from wandb->-r requirements.txt (line 2)) (8.1.7)\n",
            "Requirement already satisfied: docker-pycreds>=0.4.0 in /usr/local/lib/python3.10/dist-packages (from wandb->-r requirements.txt (line 2)) (0.4.0)\n",
            "Requirement already satisfied: gitpython!=3.1.29,>=1.0.0 in /usr/local/lib/python3.10/dist-packages (from wandb->-r requirements.txt (line 2)) (3.1.43)\n",
            "Requirement already satisfied: platformdirs in /usr/local/lib/python3.10/dist-packages (from wandb->-r requirements.txt (line 2)) (4.3.6)\n",
            "Requirement already satisfied: protobuf!=4.21.0,!=5.28.0,<6,>=3.19.0 in /usr/local/lib/python3.10/dist-packages (from wandb->-r requirements.txt (line 2)) (4.25.5)\n",
            "Requirement already satisfied: psutil>=5.0.0 in /usr/local/lib/python3.10/dist-packages (from wandb->-r requirements.txt (line 2)) (5.9.5)\n",
            "Requirement already satisfied: pyyaml in /usr/local/lib/python3.10/dist-packages (from wandb->-r requirements.txt (line 2)) (6.0.2)\n",
            "Requirement already satisfied: requests<3,>=2.0.0 in /usr/local/lib/python3.10/dist-packages (from wandb->-r requirements.txt (line 2)) (2.32.3)\n",
            "Requirement already satisfied: sentry-sdk>=2.0.0 in /usr/local/lib/python3.10/dist-packages (from wandb->-r requirements.txt (line 2)) (2.18.0)\n",
            "Requirement already satisfied: setproctitle in /usr/local/lib/python3.10/dist-packages (from wandb->-r requirements.txt (line 2)) (1.3.3)\n",
            "Requirement already satisfied: setuptools in /usr/local/lib/python3.10/dist-packages (from wandb->-r requirements.txt (line 2)) (75.1.0)\n",
            "Requirement already satisfied: typing-extensions<5,>=4.4 in /usr/local/lib/python3.10/dist-packages (from wandb->-r requirements.txt (line 2)) (4.12.2)\n",
            "Requirement already satisfied: python-dateutil>=2.8.2 in /usr/local/lib/python3.10/dist-packages (from pandas->-r requirements.txt (line 3)) (2.8.2)\n",
            "Requirement already satisfied: pytz>=2020.1 in /usr/local/lib/python3.10/dist-packages (from pandas->-r requirements.txt (line 3)) (2024.2)\n",
            "Requirement already satisfied: tzdata>=2022.7 in /usr/local/lib/python3.10/dist-packages (from pandas->-r requirements.txt (line 3)) (2024.2)\n",
            "Requirement already satisfied: six>=1.4.0 in /usr/local/lib/python3.10/dist-packages (from docker-pycreds>=0.4.0->wandb->-r requirements.txt (line 2)) (1.16.0)\n",
            "Requirement already satisfied: gitdb<5,>=4.0.1 in /usr/local/lib/python3.10/dist-packages (from gitpython!=3.1.29,>=1.0.0->wandb->-r requirements.txt (line 2)) (4.0.11)\n",
            "Requirement already satisfied: charset-normalizer<4,>=2 in /usr/local/lib/python3.10/dist-packages (from requests<3,>=2.0.0->wandb->-r requirements.txt (line 2)) (3.4.0)\n",
            "Requirement already satisfied: idna<4,>=2.5 in /usr/local/lib/python3.10/dist-packages (from requests<3,>=2.0.0->wandb->-r requirements.txt (line 2)) (3.10)\n",
            "Requirement already satisfied: urllib3<3,>=1.21.1 in /usr/local/lib/python3.10/dist-packages (from requests<3,>=2.0.0->wandb->-r requirements.txt (line 2)) (2.2.3)\n",
            "Requirement already satisfied: certifi>=2017.4.17 in /usr/local/lib/python3.10/dist-packages (from requests<3,>=2.0.0->wandb->-r requirements.txt (line 2)) (2024.8.30)\n",
            "Requirement already satisfied: smmap<6,>=3.0.1 in /usr/local/lib/python3.10/dist-packages (from gitdb<5,>=4.0.1->gitpython!=3.1.29,>=1.0.0->wandb->-r requirements.txt (line 2)) (5.0.1)\n",
            "Processing /content/rep-path-reasoning-recsys\n",
            "  Preparing metadata (setup.py) ... \u001b[?25l\u001b[?25hdone\n",
            "Building wheels for collected packages: models\n",
            "  Building wheel for models (setup.py) ... \u001b[?25l\u001b[?25hdone\n",
            "  Created wheel for models: filename=models-0.0.0-py3-none-any.whl size=244866 sha256=c298ef0d3d69d314cdc6234bf0174845d453476f224cb539896e3a020e3ee706\n",
            "  Stored in directory: /root/.cache/pip/wheels/4c/73/45/9339e44d6403f5f82ca04a332f2365c6d2a84cff92b7bede00\n",
            "Successfully built models\n",
            "Installing collected packages: models\n",
            "Successfully installed models-0.0.0\n",
            "Requirement already satisfied: gdown in /usr/local/lib/python3.10/dist-packages (5.2.0)\n",
            "Requirement already satisfied: beautifulsoup4 in /usr/local/lib/python3.10/dist-packages (from gdown) (4.12.3)\n",
            "Requirement already satisfied: filelock in /usr/local/lib/python3.10/dist-packages (from gdown) (3.16.1)\n",
            "Requirement already satisfied: requests[socks] in /usr/local/lib/python3.10/dist-packages (from gdown) (2.32.3)\n",
            "Requirement already satisfied: tqdm in /usr/local/lib/python3.10/dist-packages (from gdown) (4.66.6)\n",
            "Requirement already satisfied: soupsieve>1.2 in /usr/local/lib/python3.10/dist-packages (from beautifulsoup4->gdown) (2.6)\n",
            "Requirement already satisfied: charset-normalizer<4,>=2 in /usr/local/lib/python3.10/dist-packages (from requests[socks]->gdown) (3.4.0)\n",
            "Requirement already satisfied: idna<4,>=2.5 in /usr/local/lib/python3.10/dist-packages (from requests[socks]->gdown) (3.10)\n",
            "Requirement already satisfied: urllib3<3,>=1.21.1 in /usr/local/lib/python3.10/dist-packages (from requests[socks]->gdown) (2.2.3)\n",
            "Requirement already satisfied: certifi>=2017.4.17 in /usr/local/lib/python3.10/dist-packages (from requests[socks]->gdown) (2024.8.30)\n",
            "Requirement already satisfied: PySocks!=1.5.7,>=1.5.6 in /usr/local/lib/python3.10/dist-packages (from requests[socks]->gdown) (1.7.1)\n",
            "Downloading...\n",
            "From (original): https://drive.google.com/uc?id=14WaIJHgsUuPkW8_XzN6PeBjZq15Zdt4V\n",
            "From (redirected): https://drive.google.com/uc?id=14WaIJHgsUuPkW8_XzN6PeBjZq15Zdt4V&confirm=t&uuid=369a97b8-8554-45b1-9c49-2bdeff50f973\n",
            "To: /content/rep-path-reasoning-recsys/data.zip\n",
            "100% 31.9M/31.9M [00:01<00:00, 20.8MB/s]\n",
            "Archive:  data.zip\n",
            "   creating: data/\n",
            "   creating: data/lfm1m/\n",
            "   creating: data/lfm1m/preprocessed/\n",
            "  inflating: data/lfm1m/preprocessed/e_map.txt  \n",
            "  inflating: data/lfm1m/preprocessed/i2kg_map.txt  \n",
            "  inflating: data/lfm1m/preprocessed/kg_final.txt  \n",
            "  inflating: data/lfm1m/preprocessed/products.txt  \n",
            "  inflating: data/lfm1m/preprocessed/ratings.txt  \n",
            "  inflating: data/lfm1m/preprocessed/r_map.txt  \n",
            "  inflating: data/lfm1m/preprocessed/test.txt  \n",
            "  inflating: data/lfm1m/preprocessed/train.txt  \n",
            "  inflating: data/lfm1m/preprocessed/users.txt  \n",
            "  inflating: data/lfm1m/preprocessed/valid.txt  \n",
            "   creating: data/ml1m/\n",
            "   creating: data/ml1m/preprocessed/\n",
            "  inflating: data/ml1m/preprocessed/e_map.txt  \n",
            "  inflating: data/ml1m/preprocessed/i2kg_map.txt  \n",
            "  inflating: data/ml1m/preprocessed/kg_final.txt  \n",
            "  inflating: data/ml1m/preprocessed/products.txt  \n",
            "  inflating: data/ml1m/preprocessed/ratings.txt  \n",
            "  inflating: data/ml1m/preprocessed/r_map.txt  \n",
            "  inflating: data/ml1m/preprocessed/test.txt  \n",
            "  inflating: data/ml1m/preprocessed/train.txt  \n",
            "  inflating: data/ml1m/preprocessed/users.txt  \n",
            "  inflating: data/ml1m/preprocessed/valid.txt  \n",
            "Downloading...\n",
            "From (original): https://drive.google.com/uc?id=1iRVAgqHKpHSaWfkmUVFy5XL0m7YBWyXV\n",
            "From (redirected): https://drive.google.com/uc?id=1iRVAgqHKpHSaWfkmUVFy5XL0m7YBWyXV&confirm=t&uuid=c58bd163-57e5-433f-930b-b714543ee08b\n",
            "To: /content/rep-path-reasoning-recsys/pretrained.zip\n",
            "100% 78.7M/78.7M [00:03<00:00, 20.8MB/s]\n",
            "Archive:  pretrained.zip\n",
            "   creating: pretrained/\n",
            "   creating: pretrained/lfm1m/\n",
            "   creating: pretrained/lfm1m/pgpr/\n",
            "   creating: pretrained/lfm1m/pgpr/transe/\n",
            "  inflating: pretrained/lfm1m/pgpr/transe/transe_embed.pkl  \n",
            "   creating: pretrained/lfm1m/ucpr/\n",
            "   creating: pretrained/lfm1m/ucpr/transe/\n",
            "  inflating: pretrained/lfm1m/ucpr/transe/transe_embed.pkl  \n",
            "   creating: pretrained/lfm1m/cafe/\n",
            "   creating: pretrained/lfm1m/cafe/transe/\n",
            "  inflating: pretrained/lfm1m/cafe/transe/kg_embedding.ckpt  \n",
            "  inflating: pretrained/lfm1m/cafe/transe/embed.pkl  \n",
            "   creating: pretrained/ml1m/\n",
            "   creating: pretrained/ml1m/cafe/\n",
            "   creating: pretrained/ml1m/cafe/transe/\n",
            "  inflating: pretrained/ml1m/cafe/transe/kg_embedding.ckpt  \n",
            "  inflating: pretrained/ml1m/cafe/transe/embed.pkl  \n",
            "   creating: pretrained/ml1m/pgpr/\n",
            "   creating: pretrained/ml1m/pgpr/transe/\n",
            "  inflating: pretrained/ml1m/pgpr/transe/transe_embed.pkl  \n",
            "   creating: pretrained/ml1m/ucpr/\n",
            "   creating: pretrained/ml1m/ucpr/transe/\n",
            "  inflating: pretrained/ml1m/ucpr/transe/transe_embed.pkl  \n"
          ]
        }
      ]
    },
    {
      "cell_type": "code",
      "source": [
        "ls"
      ],
      "metadata": {
        "colab": {
          "base_uri": "https://localhost:8080/"
        },
        "id": "fd3oOTjTfpPM",
        "outputId": "e7da222a-db19-4aeb-d0f1-53546e9690d4"
      },
      "execution_count": 6,
      "outputs": [
        {
          "output_type": "stream",
          "name": "stdout",
          "text": [
            "\u001b[0m\u001b[01;34mbuild\u001b[0m/              knowledge_graph_utils.py  preprocess_dataset.py    requirements.txt\n",
            "\u001b[01;32mbuild_datasets.sh\u001b[0m*  LICENSE                   \u001b[01;34mpretrained\u001b[0m/              setup.py\n",
            "\u001b[01;34mdata\u001b[0m/               map_dataset.py            pretrained.zip           statistical_test.py\n",
            "data.zip            \u001b[01;34mmappers\u001b[0m/                  README.md                test.py\n",
            "env_setup.sh        \u001b[01;34mmodels\u001b[0m/                   reasoning_path.py        train.py\n",
            "evaluate.py         \u001b[01;34mmodels.egg-info\u001b[0m/          reasoning_path_utils.py  utils.py\n",
            "gridsearch.py       prepare_datasets.py       rec_quality_metrics.py\n"
          ]
        }
      ]
    },
    {
      "cell_type": "code",
      "source": [
        "pwd"
      ],
      "metadata": {
        "colab": {
          "base_uri": "https://localhost:8080/",
          "height": 35
        },
        "id": "jJxjVYPcgFqU",
        "outputId": "cb0a7f03-0597-46a4-9700-94e47ef1d0ff"
      },
      "execution_count": 7,
      "outputs": [
        {
          "output_type": "execute_result",
          "data": {
            "text/plain": [
              "'/content/rep-path-reasoning-recsys'"
            ],
            "application/vnd.google.colaboratory.intrinsic+json": {
              "type": "string"
            }
          },
          "metadata": {},
          "execution_count": 7
        }
      ]
    },
    {
      "cell_type": "code",
      "source": [
        "from google.colab import drive\n",
        "drive.mount('/content/drive')"
      ],
      "metadata": {
        "id": "JAZcAQq3kjv2",
        "colab": {
          "base_uri": "https://localhost:8080/"
        },
        "outputId": "eec68192-3383-4589-a9b9-692c3c15f631"
      },
      "execution_count": 8,
      "outputs": [
        {
          "output_type": "stream",
          "name": "stdout",
          "text": [
            "Drive already mounted at /content/drive; to attempt to forcibly remount, call drive.mount(\"/content/drive\", force_remount=True).\n"
          ]
        }
      ]
    },
    {
      "cell_type": "code",
      "source": [
        "pwd"
      ],
      "metadata": {
        "colab": {
          "base_uri": "https://localhost:8080/",
          "height": 35
        },
        "id": "18Uhf6iVgbt_",
        "outputId": "5f1f5712-b860-492b-ce96-a781455d6c12"
      },
      "execution_count": 9,
      "outputs": [
        {
          "output_type": "execute_result",
          "data": {
            "text/plain": [
              "'/content/rep-path-reasoning-recsys'"
            ],
            "application/vnd.google.colaboratory.intrinsic+json": {
              "type": "string"
            }
          },
          "metadata": {},
          "execution_count": 9
        }
      ]
    },
    {
      "cell_type": "code",
      "source": [
        "!bash build_datasets.sh"
      ],
      "metadata": {
        "colab": {
          "base_uri": "https://localhost:8080/"
        },
        "id": "j-yGtwTDhVUC",
        "outputId": "2a1c32c3-92fe-48f1-b9cb-623e3ae79293"
      },
      "execution_count": 10,
      "outputs": [
        {
          "output_type": "stream",
          "name": "stdout",
          "text": [
            "Creating data/ml1m/preprocessed/cke/ filesystem\n",
            "Creating data/ml1m/preprocessed/cfkg/ filesystem\n",
            "Creating data/ml1m/preprocessed/kgat/ filesystem\n",
            "Creating data/ml1m/preprocessed/fm/ filesystem\n",
            "Creating data/ml1m/preprocessed/nfm/ filesystem\n",
            "Creating data/ml1m/preprocessed/bprmf/ filesystem\n",
            "Creating data/ml1m/preprocessed/pgpr/ filesystem\n",
            "/content/rep-path-reasoning-recsys/mappers/mapper_pgpr.py:71: SettingWithCopyWarning: \n",
            "A value is trying to be set on a copy of a slice from a DataFrame.\n",
            "Try using .loc[row_indexer,col_indexer] = value instead\n",
            "\n",
            "See the caveats in the documentation: https://pandas.pydata.org/pandas-docs/stable/user_guide/indexing.html#returning-a-view-versus-a-copy\n",
            "  triplets_grouped_by_rel.entity_head = triplets_grouped_by_rel.entity_head.map(eid2new_id[PRODUCT])\n",
            "/content/rep-path-reasoning-recsys/mappers/mapper_pgpr.py:72: SettingWithCopyWarning: \n",
            "A value is trying to be set on a copy of a slice from a DataFrame.\n",
            "Try using .loc[row_indexer,col_indexer] = value instead\n",
            "\n",
            "See the caveats in the documentation: https://pandas.pydata.org/pandas-docs/stable/user_guide/indexing.html#returning-a-view-versus-a-copy\n",
            "  triplets_grouped_by_rel.entity_tail = triplets_grouped_by_rel.entity_tail.map(eid2new_id[entity_name])\n",
            "Creating data/ml1m/preprocessed/ucpr/ filesystem\n",
            "/content/rep-path-reasoning-recsys/mappers/mapper_ucpr.py:70: SettingWithCopyWarning: \n",
            "A value is trying to be set on a copy of a slice from a DataFrame.\n",
            "Try using .loc[row_indexer,col_indexer] = value instead\n",
            "\n",
            "See the caveats in the documentation: https://pandas.pydata.org/pandas-docs/stable/user_guide/indexing.html#returning-a-view-versus-a-copy\n",
            "  triplets_grouped_by_rel.entity_head = triplets_grouped_by_rel.entity_head.map(eid2new_id[PRODUCT])\n",
            "/content/rep-path-reasoning-recsys/mappers/mapper_ucpr.py:71: SettingWithCopyWarning: \n",
            "A value is trying to be set on a copy of a slice from a DataFrame.\n",
            "Try using .loc[row_indexer,col_indexer] = value instead\n",
            "\n",
            "See the caveats in the documentation: https://pandas.pydata.org/pandas-docs/stable/user_guide/indexing.html#returning-a-view-versus-a-copy\n",
            "  triplets_grouped_by_rel.entity_tail = triplets_grouped_by_rel.entity_tail.map(eid2new_id[entity_name])\n",
            "Creating data/ml1m/preprocessed/cafe/ filesystem\n",
            "Traceback (most recent call last):\n",
            "  File \"/content/rep-path-reasoning-recsys/map_dataset.py\", line 47, in <module>\n",
            "    main()\n",
            "  File \"/content/rep-path-reasoning-recsys/map_dataset.py\", line 19, in main\n",
            "    MapperCAFE(args)\n",
            "  File \"/content/rep-path-reasoning-recsys/mappers/mapper_cafe.py\", line 8, in __init__\n",
            "    self.map_to_CAFE()\n",
            "  File \"/content/rep-path-reasoning-recsys/mappers/mapper_cafe.py\", line 105, in map_to_CAFE\n",
            "    all_entities_df = all_entities_df.append(user_df)\n",
            "  File \"/usr/local/lib/python3.10/dist-packages/pandas/core/generic.py\", line 6299, in __getattr__\n",
            "    return object.__getattribute__(self, name)\n",
            "AttributeError: 'DataFrame' object has no attribute 'append'. Did you mean: '_append'?\n",
            "Creating data/ml1m/preprocessed/transe/ filesystem\n",
            "/content/rep-path-reasoning-recsys/mappers/mapper_ucpr.py:70: SettingWithCopyWarning: \n",
            "A value is trying to be set on a copy of a slice from a DataFrame.\n",
            "Try using .loc[row_indexer,col_indexer] = value instead\n",
            "\n",
            "See the caveats in the documentation: https://pandas.pydata.org/pandas-docs/stable/user_guide/indexing.html#returning-a-view-versus-a-copy\n",
            "  triplets_grouped_by_rel.entity_head = triplets_grouped_by_rel.entity_head.map(eid2new_id[PRODUCT])\n",
            "/content/rep-path-reasoning-recsys/mappers/mapper_ucpr.py:71: SettingWithCopyWarning: \n",
            "A value is trying to be set on a copy of a slice from a DataFrame.\n",
            "Try using .loc[row_indexer,col_indexer] = value instead\n",
            "\n",
            "See the caveats in the documentation: https://pandas.pydata.org/pandas-docs/stable/user_guide/indexing.html#returning-a-view-versus-a-copy\n",
            "  triplets_grouped_by_rel.entity_tail = triplets_grouped_by_rel.entity_tail.map(eid2new_id[entity_name])\n",
            "Creating data/lfm1m/preprocessed/cke/ filesystem\n",
            "Creating data/lfm1m/preprocessed/cfkg/ filesystem\n",
            "Creating data/lfm1m/preprocessed/kgat/ filesystem\n",
            "Creating data/lfm1m/preprocessed/fm/ filesystem\n",
            "Creating data/lfm1m/preprocessed/nfm/ filesystem\n",
            "Creating data/lfm1m/preprocessed/bprmf/ filesystem\n",
            "Creating data/lfm1m/preprocessed/pgpr/ filesystem\n",
            "/content/rep-path-reasoning-recsys/mappers/mapper_pgpr.py:71: SettingWithCopyWarning: \n",
            "A value is trying to be set on a copy of a slice from a DataFrame.\n",
            "Try using .loc[row_indexer,col_indexer] = value instead\n",
            "\n",
            "See the caveats in the documentation: https://pandas.pydata.org/pandas-docs/stable/user_guide/indexing.html#returning-a-view-versus-a-copy\n",
            "  triplets_grouped_by_rel.entity_head = triplets_grouped_by_rel.entity_head.map(eid2new_id[PRODUCT])\n",
            "/content/rep-path-reasoning-recsys/mappers/mapper_pgpr.py:72: SettingWithCopyWarning: \n",
            "A value is trying to be set on a copy of a slice from a DataFrame.\n",
            "Try using .loc[row_indexer,col_indexer] = value instead\n",
            "\n",
            "See the caveats in the documentation: https://pandas.pydata.org/pandas-docs/stable/user_guide/indexing.html#returning-a-view-versus-a-copy\n",
            "  triplets_grouped_by_rel.entity_tail = triplets_grouped_by_rel.entity_tail.map(eid2new_id[entity_name])\n",
            "Creating data/lfm1m/preprocessed/ucpr/ filesystem\n",
            "/content/rep-path-reasoning-recsys/mappers/mapper_ucpr.py:70: SettingWithCopyWarning: \n",
            "A value is trying to be set on a copy of a slice from a DataFrame.\n",
            "Try using .loc[row_indexer,col_indexer] = value instead\n",
            "\n",
            "See the caveats in the documentation: https://pandas.pydata.org/pandas-docs/stable/user_guide/indexing.html#returning-a-view-versus-a-copy\n",
            "  triplets_grouped_by_rel.entity_head = triplets_grouped_by_rel.entity_head.map(eid2new_id[PRODUCT])\n",
            "/content/rep-path-reasoning-recsys/mappers/mapper_ucpr.py:71: SettingWithCopyWarning: \n",
            "A value is trying to be set on a copy of a slice from a DataFrame.\n",
            "Try using .loc[row_indexer,col_indexer] = value instead\n",
            "\n",
            "See the caveats in the documentation: https://pandas.pydata.org/pandas-docs/stable/user_guide/indexing.html#returning-a-view-versus-a-copy\n",
            "  triplets_grouped_by_rel.entity_tail = triplets_grouped_by_rel.entity_tail.map(eid2new_id[entity_name])\n",
            "Creating data/lfm1m/preprocessed/cafe/ filesystem\n",
            "Traceback (most recent call last):\n",
            "  File \"/content/rep-path-reasoning-recsys/map_dataset.py\", line 47, in <module>\n",
            "    main()\n",
            "  File \"/content/rep-path-reasoning-recsys/map_dataset.py\", line 19, in main\n",
            "    MapperCAFE(args)\n",
            "  File \"/content/rep-path-reasoning-recsys/mappers/mapper_cafe.py\", line 8, in __init__\n",
            "    self.map_to_CAFE()\n",
            "  File \"/content/rep-path-reasoning-recsys/mappers/mapper_cafe.py\", line 105, in map_to_CAFE\n",
            "    all_entities_df = all_entities_df.append(user_df)\n",
            "  File \"/usr/local/lib/python3.10/dist-packages/pandas/core/generic.py\", line 6299, in __getattr__\n",
            "    return object.__getattribute__(self, name)\n",
            "AttributeError: 'DataFrame' object has no attribute 'append'. Did you mean: '_append'?\n",
            "Creating data/lfm1m/preprocessed/transe/ filesystem\n",
            "/content/rep-path-reasoning-recsys/mappers/mapper_ucpr.py:70: SettingWithCopyWarning: \n",
            "A value is trying to be set on a copy of a slice from a DataFrame.\n",
            "Try using .loc[row_indexer,col_indexer] = value instead\n",
            "\n",
            "See the caveats in the documentation: https://pandas.pydata.org/pandas-docs/stable/user_guide/indexing.html#returning-a-view-versus-a-copy\n",
            "  triplets_grouped_by_rel.entity_head = triplets_grouped_by_rel.entity_head.map(eid2new_id[PRODUCT])\n",
            "/content/rep-path-reasoning-recsys/mappers/mapper_ucpr.py:71: SettingWithCopyWarning: \n",
            "A value is trying to be set on a copy of a slice from a DataFrame.\n",
            "Try using .loc[row_indexer,col_indexer] = value instead\n",
            "\n",
            "See the caveats in the documentation: https://pandas.pydata.org/pandas-docs/stable/user_guide/indexing.html#returning-a-view-versus-a-copy\n",
            "  triplets_grouped_by_rel.entity_tail = triplets_grouped_by_rel.entity_tail.map(eid2new_id[entity_name])\n"
          ]
        }
      ]
    },
    {
      "cell_type": "code",
      "source": [
        "!python3 prepare_datasets.py"
      ],
      "metadata": {
        "colab": {
          "base_uri": "https://localhost:8080/"
        },
        "id": "_mmWOwtlh-XN",
        "outputId": "ddf041af-a1dc-408d-9c5d-a2e8a3add06a"
      },
      "execution_count": 11,
      "outputs": [
        {
          "output_type": "stream",
          "name": "stdout",
          "text": [
            "Load ml1m dataset from file...\n",
            "Create ml1m knowledge graph from dataset...\n",
            "Generate ml1m train/test labels.\n",
            "Load ml1m dataset from file...\n",
            "Load actor of size 2330\n",
            "Load prodcompany of size 304\n",
            "Load producer of size 458\n",
            "Load product of size 2983\n",
            "Load country of size 32\n",
            "Load writter of size 289\n",
            "Load editor of size 198\n",
            "Load category of size 1821\n",
            "Load composer of size 292\n",
            "Load cinematographer of size 236\n",
            "Load director of size 117\n",
            "Load user of size 6040\n",
            "Load wikipage of size 4700\n",
            "Load composed_by_composer of size 1999\n",
            "Load cinematography_by_cinematographer of size 1481\n",
            "Load wrote_by_writter of size 845\n",
            "Load produced_in_country of size 311\n",
            "Load belong_to_category of size 40499\n",
            "Load edited_by_editor of size 1153\n",
            "Load directed_by_director of size 367\n",
            "Load starred_by_actor of size 9411\n",
            "Load related_to_wikipage of size 143523\n",
            "Load produced_by_prodcompany of size 4330\n",
            "Load produced_by_producer of size 1602\n",
            "Invalid users: 0, invalid items: 0\n",
            "Load review of size 556989\n",
            "Create ml1m knowledge graph from dataset...\n",
            "Load entities...\n",
            "Total 19813 nodes.\n",
            "Load reviews...\n",
            "Total 1113978 review edges.\n",
            "Load knowledge produced_by_prodcompany...\n",
            "Total 8460 produced_by_prodcompany edges.\n",
            "Load knowledge produced_by_producer...\n",
            "Total 3204 produced_by_producer edges.\n",
            "Load knowledge edited_by_editor...\n",
            "Total 2306 edited_by_editor edges.\n",
            "Load knowledge wrote_by_writter...\n",
            "Total 1690 wrote_by_writter edges.\n",
            "Load knowledge cinematography_by_cinematographer...\n",
            "Total 2962 cinematography_by_cinematographer edges.\n",
            "Load knowledge belong_to_category...\n",
            "Total 80998 belong_to_category edges.\n",
            "Load knowledge directed_by_director...\n",
            "Total 734 directed_by_director edges.\n",
            "Load knowledge starred_by_actor...\n",
            "Total 18790 starred_by_actor edges.\n",
            "Load knowledge composed_by_composer...\n",
            "Total 3998 composed_by_composer edges.\n",
            "Load knowledge produced_in_country...\n",
            "Total 622 produced_in_country edges.\n",
            "Load knowledge related_to_wikipage...\n",
            "Total 262414 related_to_wikipage edges.\n",
            "Remove duplicates...\n",
            "Compute node degrees...\n",
            "Generate ml1m train/test labels.\n",
            ">>> Load KG embeddings ...\n",
            "Load embedding: ../../data/ml1m/preprocessed/cafe/kg_embedding.ckpt\n",
            "/usr/local/lib/python3.10/dist-packages/models/CAFE/cafe_utils.py:172: FutureWarning: You are using `torch.load` with `weights_only=False` (the current default value), which uses the default pickle module implicitly. It is possible to construct malicious pickle data which will execute arbitrary code during unpickling (See https://github.com/pytorch/pytorch/blob/main/SECURITY.md#untrusted-models for more details). In a future release, the default value for `weights_only` will be flipped to `True`. This limits the functions that could be executed during unpickling. Arbitrary objects will no longer be allowed to be loaded via this mode unless they are explicitly allowlisted by the user via `torch.serialization.add_safe_globals`. We recommend you start setting `weights_only=True` for any use case where you don't have full control of the loaded file. Please open an issue on GitHub for any issues related to this experimental feature.\n",
            "  state_dict = torch.load(EMBED_FILE[dataset], map_location=lambda storage, loc: storage)\n",
            ">>> user: (6041, 100)\n",
            ">>> product: (2984, 100)\n",
            ">>> actor: (2331, 100)\n",
            ">>> director: (118, 100)\n",
            ">>> prodcompany: (305, 100)\n",
            ">>> editor: (199, 100)\n",
            ">>> writter: (290, 100)\n",
            ">>> cinematographer: (237, 100)\n",
            ">>> composer: (293, 100)\n",
            ">>> country: (33, 100)\n",
            ">>> category: (1822, 100)\n",
            ">>> producer: (459, 100)\n",
            ">>> wikipage: (4701, 100)\n",
            "File is saved to \"/content/rep-path-reasoning-recsys/data/ml1m/preprocessed/cafe/tmp/embed.pkl\".\n",
            "Traceback (most recent call last):\n",
            "  File \"/content/rep-path-reasoning-recsys/models/CAFE/preprocess.py\", line 84, in <module>\n",
            "    main(args)\n",
            "  File \"/content/rep-path-reasoning-recsys/models/CAFE/preprocess.py\", line 66, in main\n",
            "    kg = KnowledgeGraph(args.dataset)\n",
            "  File \"/usr/local/lib/python3.10/dist-packages/models/CAFE/knowledge_graph.py\", line 113, in __init__\n",
            "    self._init(dataset)\n",
            "  File \"/usr/local/lib/python3.10/dist-packages/models/CAFE/knowledge_graph.py\", line 133, in _init\n",
            "    with gzip.open(entity_file, \"rb\") as f:\n",
            "  File \"/usr/lib/python3.10/gzip.py\", line 58, in open\n",
            "    binary_file = GzipFile(filename, gz_mode, compresslevel)\n",
            "  File \"/usr/lib/python3.10/gzip.py\", line 174, in __init__\n",
            "    fileobj = self.myfileobj = builtins.open(filename, mode or 'rb')\n",
            "FileNotFoundError: [Errno 2] No such file or directory: '../../data/ml1m/preprocessed/cafe/kg_entities.txt.gz'\n",
            "Load ml1m dataset from file...\n",
            "Create ml1m knowledge graph from dataset...\n",
            "Generate ml1m train/test labels.\n",
            "Load lfm1m dataset from file...\n",
            "Create lfm1m knowledge graph from dataset...\n",
            "Generate lfm1m train/test labels.\n",
            "Load lfm1m dataset from file...\n",
            "Load artist of size 2623\n",
            "Load producer of size 806\n",
            "Load product of size 12492\n",
            "Load engineer of size 867\n",
            "Load user of size 4817\n",
            "Load genre of size 703\n",
            "Load belong_to_genre of size 213449\n",
            "Load featured_by_artist of size 12660\n",
            "Load mixed_by_engineer of size 2053\n",
            "Load produced_by_producer of size 1983\n",
            "Invalid users: 0, invalid items: 0\n",
            "Load review of size 652838\n",
            "Create lfm1m knowledge graph from dataset...\n",
            "Load entities...\n",
            "Total 22314 nodes.\n",
            "Load reviews...\n",
            "Total 1305676 review edges.\n",
            "Load knowledge produced_by_producer...\n",
            "Total 3966 produced_by_producer edges.\n",
            "Load knowledge featured_by_artist...\n",
            "Total 25320 featured_by_artist edges.\n",
            "Load knowledge mixed_by_engineer...\n",
            "Total 4106 mixed_by_engineer edges.\n",
            "Load knowledge belong_to_genre...\n",
            "Total 404776 belong_to_genre edges.\n",
            "Remove duplicates...\n",
            "Compute node degrees...\n",
            "Generate lfm1m train/test labels.\n",
            ">>> Load KG embeddings ...\n",
            "Load embedding: ../../data/lfm1m/preprocessed/cafe/kg_embedding.ckpt\n",
            "/usr/local/lib/python3.10/dist-packages/models/CAFE/cafe_utils.py:172: FutureWarning: You are using `torch.load` with `weights_only=False` (the current default value), which uses the default pickle module implicitly. It is possible to construct malicious pickle data which will execute arbitrary code during unpickling (See https://github.com/pytorch/pytorch/blob/main/SECURITY.md#untrusted-models for more details). In a future release, the default value for `weights_only` will be flipped to `True`. This limits the functions that could be executed during unpickling. Arbitrary objects will no longer be allowed to be loaded via this mode unless they are explicitly allowlisted by the user via `torch.serialization.add_safe_globals`. We recommend you start setting `weights_only=True` for any use case where you don't have full control of the loaded file. Please open an issue on GitHub for any issues related to this experimental feature.\n",
            "  state_dict = torch.load(EMBED_FILE[dataset], map_location=lambda storage, loc: storage)\n",
            ">>> user: (4818, 100)\n",
            ">>> product: (12493, 100)\n",
            ">>> artist: (2624, 100)\n",
            ">>> engineer: (868, 100)\n",
            ">>> genre: (704, 100)\n",
            ">>> producer: (807, 100)\n",
            "File is saved to \"/content/rep-path-reasoning-recsys/data/lfm1m/preprocessed/cafe/tmp/embed.pkl\".\n",
            "Traceback (most recent call last):\n",
            "  File \"/content/rep-path-reasoning-recsys/models/CAFE/preprocess.py\", line 84, in <module>\n",
            "    main(args)\n",
            "  File \"/content/rep-path-reasoning-recsys/models/CAFE/preprocess.py\", line 66, in main\n",
            "    kg = KnowledgeGraph(args.dataset)\n",
            "  File \"/usr/local/lib/python3.10/dist-packages/models/CAFE/knowledge_graph.py\", line 113, in __init__\n",
            "    self._init(dataset)\n",
            "  File \"/usr/local/lib/python3.10/dist-packages/models/CAFE/knowledge_graph.py\", line 133, in _init\n",
            "    with gzip.open(entity_file, \"rb\") as f:\n",
            "  File \"/usr/lib/python3.10/gzip.py\", line 58, in open\n",
            "    binary_file = GzipFile(filename, gz_mode, compresslevel)\n",
            "  File \"/usr/lib/python3.10/gzip.py\", line 174, in __init__\n",
            "    fileobj = self.myfileobj = builtins.open(filename, mode or 'rb')\n",
            "FileNotFoundError: [Errno 2] No such file or directory: '../../data/lfm1m/preprocessed/cafe/kg_entities.txt.gz'\n",
            "Load lfm1m dataset from file...\n",
            "Create lfm1m knowledge graph from dataset...\n",
            "Generate lfm1m train/test labels.\n"
          ]
        }
      ]
    },
    {
      "cell_type": "code",
      "source": [
        "pwd"
      ],
      "metadata": {
        "colab": {
          "base_uri": "https://localhost:8080/",
          "height": 35
        },
        "id": "EVypB8roiDu_",
        "outputId": "badeec6f-abd5-4964-9ac7-48a13e8e7f7d"
      },
      "execution_count": 12,
      "outputs": [
        {
          "output_type": "execute_result",
          "data": {
            "text/plain": [
              "'/content/rep-path-reasoning-recsys'"
            ],
            "application/vnd.google.colaboratory.intrinsic+json": {
              "type": "string"
            }
          },
          "metadata": {},
          "execution_count": 12
        }
      ]
    },
    {
      "cell_type": "code",
      "source": [
        "ls"
      ],
      "metadata": {
        "colab": {
          "base_uri": "https://localhost:8080/"
        },
        "id": "yZT2Ez-qjHTo",
        "outputId": "87a3f942-1637-4c91-a977-0b0b823616a5"
      },
      "execution_count": 13,
      "outputs": [
        {
          "output_type": "stream",
          "name": "stdout",
          "text": [
            "\u001b[0m\u001b[01;34mbuild\u001b[0m/              knowledge_graph_utils.py  preprocess_dataset.py    rec_quality_metrics.py\n",
            "\u001b[01;32mbuild_datasets.sh\u001b[0m*  LICENSE                   \u001b[01;34mpretrained\u001b[0m/              requirements.txt\n",
            "\u001b[01;34mdata\u001b[0m/               map_dataset.py            pretrained.zip           setup.py\n",
            "data.zip            \u001b[01;34mmappers\u001b[0m/                  \u001b[01;34m__pycache__\u001b[0m/             statistical_test.py\n",
            "env_setup.sh        \u001b[01;34mmodels\u001b[0m/                   README.md                test.py\n",
            "evaluate.py         \u001b[01;34mmodels.egg-info\u001b[0m/          reasoning_path.py        train.py\n",
            "gridsearch.py       prepare_datasets.py       reasoning_path_utils.py  utils.py\n"
          ]
        }
      ]
    },
    {
      "cell_type": "code",
      "source": [
        "pwd"
      ],
      "metadata": {
        "colab": {
          "base_uri": "https://localhost:8080/",
          "height": 35
        },
        "id": "byzGfRZYjIbr",
        "outputId": "b60a99c2-56bb-4fe5-d6c4-310f7425ac4c"
      },
      "execution_count": 14,
      "outputs": [
        {
          "output_type": "execute_result",
          "data": {
            "text/plain": [
              "'/content/rep-path-reasoning-recsys'"
            ],
            "application/vnd.google.colaboratory.intrinsic+json": {
              "type": "string"
            }
          },
          "metadata": {},
          "execution_count": 14
        }
      ]
    },
    {
      "cell_type": "code",
      "source": [
        "!python3 train.py --model pgpr --dataset ml1m"
      ],
      "metadata": {
        "colab": {
          "base_uri": "https://localhost:8080/"
        },
        "id": "N6wsi4MkpMq0",
        "outputId": "6f7cd7f8-7c7d-4247-cb3c-e408da8477be"
      },
      "execution_count": 17,
      "outputs": [
        {
          "output_type": "stream",
          "name": "stdout",
          "text": [
            "[INFO]  Namespace(dataset='ml1m', name='train_agent', seed=123, gpu='0', epochs=50, batch_size=32, lr=0.0001, max_acts=250, max_path_len=3, gamma=0.99, ent_weight=0.001, act_dropout=0, state_history=1, hidden=[512, 256], do_validation=True, wandb=False, wandb_entity=None, device='cpu', log_dir='../../data/ml1m/preprocessed/pgpr/tmp/train_agent')\n",
            "Load embedding: ../../data/ml1m/preprocessed/pgpr/tmp/transe_embed.pkl\n",
            "Load embedding: ../../data/ml1m/preprocessed/pgpr/tmp/transe_embed.pkl\n",
            "[INFO]  Parameters:['l1.weight', 'l1.bias', 'l2.weight', 'l2.bias', 'actor.weight', 'actor.bias', 'critic.weight', 'critic.bias']\n",
            "[INFO]  | train_epoch=1 | train_loss=-0.28012 | train_ploss=-0.47201 | train_vloss=0.20593 | train_entropy=-14.03014 | train_reward=3.67929 | std_train_reward=1.43430 \n",
            "[INFO]  | train_epoch=2 | train_loss=0.12819 | train_ploss=-0.00549 | train_vloss=0.14762 | train_entropy=-13.94188 | train_reward=4.23281 | std_train_reward=1.37938 \n",
            "[INFO]  | train_epoch=3 | train_loss=2.29931 | train_ploss=1.95786 | train_vloss=0.35612 | train_entropy=-14.66979 | train_reward=8.50787 | std_train_reward=1.41130 \n",
            "[INFO]  | train_epoch=4 | train_loss=-0.62399 | train_ploss=-0.75229 | train_vloss=0.14227 | train_entropy=-13.97377 | train_reward=3.83968 | std_train_reward=1.43408 \n",
            "[INFO]  | train_epoch=5 | train_loss=0.38723 | train_ploss=0.19221 | train_vloss=0.20924 | train_entropy=-14.21493 | train_reward=5.70771 | std_train_reward=1.39438 \n",
            "[INFO]  | train_epoch=6 | train_loss=-1.23961 | train_ploss=-1.33127 | train_vloss=0.10487 | train_entropy=-13.19715 | train_reward=2.16575 | std_train_reward=1.42130 \n",
            "[INFO]  | train_epoch=7 | train_loss=0.19036 | train_ploss=0.07233 | train_vloss=0.13258 | train_entropy=-14.55452 | train_reward=4.91333 | std_train_reward=1.52969 \n",
            "[INFO]  | train_epoch=8 | train_loss=-0.04830 | train_ploss=-0.22689 | train_vloss=0.19279 | train_entropy=-14.19929 | train_reward=4.55222 | std_train_reward=1.46536 \n",
            "[INFO]  | train_epoch=9 | train_loss=-0.42284 | train_ploss=-0.54525 | train_vloss=0.13625 | train_entropy=-13.83659 | train_reward=3.59738 | std_train_reward=1.50274 \n",
            "[INFO]  | train_epoch=10 | train_loss=0.32565 | train_ploss=0.11346 | train_vloss=0.22629 | train_entropy=-14.10281 | train_reward=5.50253 | std_train_reward=1.35770 \n",
            "[INFO]  | valid_epoch=10 | valid_loss=0.64834 | valid_ploss=0.35539 | valid_vloss=0.30658 | valid_entropy=-13.63478 | valid_reward=6.01628 | std_valid_reward=1.46154 \n",
            "[INFO]  Save models to ../../data/ml1m/preprocessed/pgpr/tmp/train_agent/policy_model_epoch_10.ckpt\n",
            "[INFO]  | train_epoch=11 | train_loss=0.25663 | train_ploss=0.12398 | train_vloss=0.14654 | train_entropy=-13.88636 | train_reward=5.43108 | std_train_reward=1.39399 \n",
            "[INFO]  | train_epoch=12 | train_loss=0.38011 | train_ploss=0.22647 | train_vloss=0.16759 | train_entropy=-13.95543 | train_reward=4.81944 | std_train_reward=1.47247 \n",
            "[INFO]  | train_epoch=13 | train_loss=0.95149 | train_ploss=0.80584 | train_vloss=0.15948 | train_entropy=-13.83347 | train_reward=6.15754 | std_train_reward=1.39438 \n",
            "[INFO]  | train_epoch=14 | train_loss=-0.47155 | train_ploss=-0.53962 | train_vloss=0.08225 | train_entropy=-14.18023 | train_reward=4.04123 | std_train_reward=1.53673 \n",
            "[INFO]  | train_epoch=15 | train_loss=0.05074 | train_ploss=-0.09636 | train_vloss=0.16085 | train_entropy=-13.75059 | train_reward=4.76765 | std_train_reward=1.38506 \n",
            "[INFO]  | train_epoch=16 | train_loss=0.11688 | train_ploss=-0.11526 | train_vloss=0.24604 | train_entropy=-13.89925 | train_reward=4.52228 | std_train_reward=1.35702 \n",
            "[INFO]  | train_epoch=17 | train_loss=0.18510 | train_ploss=-0.03915 | train_vloss=0.23843 | train_entropy=-14.18033 | train_reward=6.10041 | std_train_reward=1.46849 \n",
            "[INFO]  | train_epoch=18 | train_loss=0.44714 | train_ploss=0.30470 | train_vloss=0.15621 | train_entropy=-13.77183 | train_reward=5.53056 | std_train_reward=1.47945 \n",
            "[INFO]  | train_epoch=19 | train_loss=1.18106 | train_ploss=0.95408 | train_vloss=0.24135 | train_entropy=-14.37424 | train_reward=6.72315 | std_train_reward=1.34314 \n",
            "[INFO]  | train_epoch=20 | train_loss=0.28666 | train_ploss=0.12917 | train_vloss=0.17191 | train_entropy=-14.42112 | train_reward=5.52577 | std_train_reward=1.39078 \n",
            "[INFO]  | valid_epoch=20 | valid_loss=0.83530 | valid_ploss=0.59337 | valid_vloss=0.25596 | valid_entropy=-14.03476 | valid_reward=6.45938 | std_valid_reward=1.35845 \n",
            "[INFO]  Save models to ../../data/ml1m/preprocessed/pgpr/tmp/train_agent/policy_model_epoch_20.ckpt\n",
            "[INFO]  | train_epoch=21 | train_loss=0.63212 | train_ploss=0.36461 | train_vloss=0.28125 | train_entropy=-13.73940 | train_reward=5.47676 | std_train_reward=1.43126 \n",
            "[INFO]  | train_epoch=22 | train_loss=-0.58850 | train_ploss=-0.69770 | train_vloss=0.12328 | train_entropy=-14.07795 | train_reward=3.85073 | std_train_reward=1.51118 \n",
            "[INFO]  | train_epoch=23 | train_loss=-0.27271 | train_ploss=-0.43301 | train_vloss=0.17434 | train_entropy=-14.04130 | train_reward=4.20229 | std_train_reward=1.45551 \n",
            "[INFO]  | train_epoch=24 | train_loss=0.56793 | train_ploss=0.42494 | train_vloss=0.15712 | train_entropy=-14.13403 | train_reward=5.69806 | std_train_reward=1.40306 \n",
            "[INFO]  | train_epoch=25 | train_loss=-0.35159 | train_ploss=-0.51509 | train_vloss=0.17718 | train_entropy=-13.67176 | train_reward=4.11222 | std_train_reward=1.46099 \n",
            "[INFO]  | train_epoch=26 | train_loss=1.01980 | train_ploss=0.84196 | train_vloss=0.19173 | train_entropy=-13.89527 | train_reward=5.88185 | std_train_reward=1.46043 \n",
            "[INFO]  | train_epoch=27 | train_loss=-0.69528 | train_ploss=-0.83633 | train_vloss=0.15567 | train_entropy=-14.61646 | train_reward=3.57735 | std_train_reward=1.43490 \n",
            "[INFO]  | train_epoch=28 | train_loss=-0.14998 | train_ploss=-0.27240 | train_vloss=0.13611 | train_entropy=-13.68758 | train_reward=4.50206 | std_train_reward=1.42315 \n",
            "[INFO]  | train_epoch=29 | train_loss=-0.14859 | train_ploss=-0.32712 | train_vloss=0.19258 | train_entropy=-14.04787 | train_reward=4.47690 | std_train_reward=1.38921 \n",
            "[INFO]  | train_epoch=30 | train_loss=0.71350 | train_ploss=0.55303 | train_vloss=0.17454 | train_entropy=-14.06736 | train_reward=5.80434 | std_train_reward=1.36760 \n",
            "[INFO]  | valid_epoch=30 | valid_loss=0.29726 | valid_ploss=0.06214 | valid_vloss=0.24890 | valid_entropy=-13.77247 | valid_reward=5.37360 | std_valid_reward=1.53981 \n",
            "[INFO]  Save models to ../../data/ml1m/preprocessed/pgpr/tmp/train_agent/policy_model_epoch_30.ckpt\n",
            "[INFO]  | train_epoch=31 | train_loss=-0.19437 | train_ploss=-0.35643 | train_vloss=0.17615 | train_entropy=-14.09023 | train_reward=4.72287 | std_train_reward=1.44274 \n",
            "[INFO]  | train_epoch=32 | train_loss=0.59940 | train_ploss=0.45133 | train_vloss=0.16244 | train_entropy=-14.36155 | train_reward=5.85208 | std_train_reward=1.39226 \n",
            "[INFO]  | train_epoch=33 | train_loss=1.07940 | train_ploss=0.83774 | train_vloss=0.25632 | train_entropy=-14.66060 | train_reward=6.87777 | std_train_reward=1.41114 \n",
            "[INFO]  | train_epoch=34 | train_loss=1.69340 | train_ploss=1.44192 | train_vloss=0.26524 | train_entropy=-13.76487 | train_reward=7.70364 | std_train_reward=1.43765 \n",
            "[INFO]  | train_epoch=35 | train_loss=1.06696 | train_ploss=0.88018 | train_vloss=0.20058 | train_entropy=-13.80615 | train_reward=6.43897 | std_train_reward=1.38564 \n",
            "[INFO]  | train_epoch=36 | train_loss=0.10467 | train_ploss=-0.05534 | train_vloss=0.17405 | train_entropy=-14.04024 | train_reward=5.04943 | std_train_reward=1.52004 \n",
            "[INFO]  | train_epoch=37 | train_loss=0.55024 | train_ploss=0.32466 | train_vloss=0.23943 | train_entropy=-13.85005 | train_reward=6.00268 | std_train_reward=1.38415 \n",
            "[INFO]  | train_epoch=38 | train_loss=0.44735 | train_ploss=0.25992 | train_vloss=0.20139 | train_entropy=-13.95778 | train_reward=5.57210 | std_train_reward=1.43987 \n",
            "[INFO]  | train_epoch=39 | train_loss=-0.87693 | train_ploss=-1.00124 | train_vloss=0.13833 | train_entropy=-14.02330 | train_reward=3.54776 | std_train_reward=1.47700 \n",
            "[INFO]  | train_epoch=40 | train_loss=-0.03746 | train_ploss=-0.17087 | train_vloss=0.14721 | train_entropy=-13.79997 | train_reward=5.25136 | std_train_reward=1.48453 \n",
            "[INFO]  | valid_epoch=40 | valid_loss=1.22897 | valid_ploss=0.98616 | valid_vloss=0.25644 | valid_entropy=-13.62516 | valid_reward=7.35795 | std_valid_reward=1.42635 \n",
            "[INFO]  Save models to ../../data/ml1m/preprocessed/pgpr/tmp/train_agent/policy_model_epoch_40.ckpt\n",
            "[INFO]  | train_epoch=41 | train_loss=-0.20339 | train_ploss=-0.34771 | train_vloss=0.15863 | train_entropy=-14.30429 | train_reward=4.95338 | std_train_reward=1.36221 \n",
            "[INFO]  | train_epoch=42 | train_loss=0.06436 | train_ploss=-0.04144 | train_vloss=0.11986 | train_entropy=-14.06394 | train_reward=5.06857 | std_train_reward=1.39141 \n",
            "[INFO]  | train_epoch=43 | train_loss=-1.55412 | train_ploss=-1.65075 | train_vloss=0.11044 | train_entropy=-13.81469 | train_reward=2.07678 | std_train_reward=1.46283 \n",
            "[INFO]  | train_epoch=44 | train_loss=0.61685 | train_ploss=0.44032 | train_vloss=0.19042 | train_entropy=-13.88441 | train_reward=5.93883 | std_train_reward=1.32243 \n",
            "[INFO]  | train_epoch=45 | train_loss=0.23998 | train_ploss=0.07842 | train_vloss=0.17583 | train_entropy=-14.27959 | train_reward=4.98786 | std_train_reward=1.40449 \n",
            "[INFO]  | train_epoch=46 | train_loss=0.58991 | train_ploss=0.43909 | train_vloss=0.16460 | train_entropy=-13.77609 | train_reward=5.95293 | std_train_reward=1.49924 \n",
            "[INFO]  | train_epoch=47 | train_loss=0.57047 | train_ploss=0.36785 | train_vloss=0.21629 | train_entropy=-13.67439 | train_reward=5.92561 | std_train_reward=1.39962 \n",
            "[INFO]  | train_epoch=48 | train_loss=-0.21535 | train_ploss=-0.41062 | train_vloss=0.20894 | train_entropy=-13.67972 | train_reward=4.25149 | std_train_reward=1.40114 \n",
            "[INFO]  | train_epoch=49 | train_loss=-0.06755 | train_ploss=-0.21346 | train_vloss=0.15994 | train_entropy=-14.03819 | train_reward=4.72691 | std_train_reward=1.32895 \n",
            "[INFO]  | train_epoch=50 | train_loss=0.69128 | train_ploss=0.42138 | train_vloss=0.28366 | train_entropy=-13.76441 | train_reward=6.22860 | std_train_reward=1.29752 \n",
            "[INFO]  | valid_epoch=50 | valid_loss=-0.48450 | valid_ploss=-0.67774 | valid_vloss=0.20711 | valid_entropy=-13.86292 | valid_reward=3.85500 | std_valid_reward=1.40325 \n",
            "[INFO]  Save models to ../../data/ml1m/preprocessed/pgpr/tmp/train_agent/policy_model_epoch_50.ckpt\n"
          ]
        }
      ]
    },
    {
      "cell_type": "code",
      "source": [
        "!python3 gridsearch.py --model pgpr --dataset ml1m"
      ],
      "metadata": {
        "colab": {
          "base_uri": "https://localhost:8080/"
        },
        "id": "P516dbEVat0M",
        "outputId": "1391cbfb-0129-4148-fb50-0ba2effa6323"
      },
      "execution_count": 19,
      "outputs": [
        {
          "output_type": "stream",
          "name": "stdout",
          "text": [
            "num_experiments:  4\n",
            "\r  0% 0/4 [00:00<?, ?it/s]Executing job 1/4:  {'act_dropout': 0, 'batch_size': 32, 'dataset': 'ml1m', 'do_validation': True, 'ent_weight': 0.001, 'epochs': 40, 'gamma': 0.99, 'gpu': '0', 'hidden': [512, 256], 'lr': 0.0001, 'max_acts': 250, 'max_path_len': 3, 'name': 'train_agent', 'seed': 123, 'state_history': 1, 'wandb': False, 'wandb_entity': None}\n",
            "[INFO]  Namespace(dataset='ml1m', name='train_agent', seed=123, gpu='0', epochs=40, batch_size=32, lr=0.0001, max_acts=250, max_path_len=3, gamma=0.99, ent_weight=0.001, act_dropout=0.0, state_history=1, hidden=[512, 256], do_validation=True, wandb=False, wandb_entity=None, device='cpu', log_dir='../../data/ml1m/preprocessed/pgpr/tmp/train_agent')\n",
            "Load embedding: ../../data/ml1m/preprocessed/pgpr/tmp/transe_embed.pkl\n",
            "Load embedding: ../../data/ml1m/preprocessed/pgpr/tmp/transe_embed.pkl\n",
            "[INFO]  Parameters:['l1.weight', 'l1.bias', 'l2.weight', 'l2.bias', 'actor.weight', 'actor.bias', 'critic.weight', 'critic.bias']\n",
            "[INFO]  | train_epoch=1 | train_loss=-0.28008 | train_ploss=-0.47198 | train_vloss=0.20593 | train_entropy=-14.03014 | train_reward=3.67929 | std_train_reward=1.43430 \n",
            "[INFO]  | train_epoch=2 | train_loss=0.12656 | train_ploss=-0.00704 | train_vloss=0.14755 | train_entropy=-13.94188 | train_reward=4.23281 | std_train_reward=1.37938 \n",
            "[INFO]  | train_epoch=3 | train_loss=2.29704 | train_ploss=1.95600 | train_vloss=0.35571 | train_entropy=-14.66980 | train_reward=8.50787 | std_train_reward=1.41468 \n",
            "[INFO]  | train_epoch=4 | train_loss=-0.61386 | train_ploss=-0.74192 | train_vloss=0.14204 | train_entropy=-13.97382 | train_reward=3.83968 | std_train_reward=1.43961 \n",
            "[INFO]  | train_epoch=5 | train_loss=0.39212 | train_ploss=0.19734 | train_vloss=0.20900 | train_entropy=-14.21502 | train_reward=5.70771 | std_train_reward=1.39880 \n",
            "[INFO]  | train_epoch=6 | train_loss=-1.26809 | train_ploss=-1.36023 | train_vloss=0.10533 | train_entropy=-13.19729 | train_reward=2.11357 | std_train_reward=1.42248 \n",
            "[INFO]  | train_epoch=7 | train_loss=0.18590 | train_ploss=0.06816 | train_vloss=0.13230 | train_entropy=-14.55475 | train_reward=4.91333 | std_train_reward=1.53672 \n",
            "[INFO]  | train_epoch=8 | train_loss=-0.05122 | train_ploss=-0.22964 | train_vloss=0.19262 | train_entropy=-14.19965 | train_reward=4.55222 | std_train_reward=1.46111 \n",
            "[INFO]  | train_epoch=9 | train_loss=-0.67651 | train_ploss=-0.80672 | train_vloss=0.14404 | train_entropy=-13.83714 | train_reward=3.17785 | std_train_reward=1.49675 \n",
            "[INFO]  | train_epoch=10 | train_loss=0.33421 | train_ploss=0.12206 | train_vloss=0.22625 | train_entropy=-14.10363 | train_reward=5.50253 | std_train_reward=1.36465 \n",
            "[INFO]  | valid_epoch=10 | valid_loss=0.66168 | valid_ploss=0.36849 | valid_vloss=0.30676 | valid_entropy=-13.57685 | valid_reward=6.01628 | std_valid_reward=1.47355 \n",
            "[INFO]  Save models to ../../data/ml1m/preprocessed/pgpr/tmp/train_agent/policy_model_epoch_10.ckpt\n",
            "[INFO]  | train_epoch=11 | train_loss=0.28928 | train_ploss=0.15670 | train_vloss=0.14647 | train_entropy=-13.88791 | train_reward=5.43108 | std_train_reward=1.39757 \n",
            "[INFO]  | train_epoch=12 | train_loss=0.33153 | train_ploss=0.17755 | train_vloss=0.16794 | train_entropy=-13.95711 | train_reward=4.81944 | std_train_reward=1.46027 \n",
            "[INFO]  | train_epoch=13 | train_loss=1.55167 | train_ploss=1.36256 | train_vloss=0.20295 | train_entropy=-13.83552 | train_reward=7.02625 | std_train_reward=1.40425 \n",
            "[INFO]  | train_epoch=14 | train_loss=-0.48479 | train_ploss=-0.55269 | train_vloss=0.08208 | train_entropy=-14.18282 | train_reward=4.04123 | std_train_reward=1.51193 \n",
            "[INFO]  | train_epoch=15 | train_loss=0.25174 | train_ploss=0.07814 | train_vloss=0.18738 | train_entropy=-13.78505 | train_reward=5.03068 | std_train_reward=1.38161 \n",
            "[INFO]  | train_epoch=16 | train_loss=0.09476 | train_ploss=-0.13787 | train_vloss=0.24653 | train_entropy=-13.90284 | train_reward=4.52228 | std_train_reward=1.38506 \n",
            "[INFO]  | train_epoch=17 | train_loss=-0.13828 | train_ploss=-0.34076 | train_vloss=0.21669 | train_entropy=-14.21623 | train_reward=5.51299 | std_train_reward=1.45588 \n",
            "[INFO]  | train_epoch=18 | train_loss=0.13546 | train_ploss=0.00060 | train_vloss=0.14855 | train_entropy=-13.68814 | train_reward=5.01557 | std_train_reward=1.47747 \n",
            "[INFO]  | train_epoch=19 | train_loss=0.72149 | train_ploss=0.57217 | train_vloss=0.16382 | train_entropy=-14.49359 | train_reward=6.10365 | std_train_reward=1.34600 \n",
            "[INFO]  | train_epoch=20 | train_loss=0.12348 | train_ploss=-0.02035 | train_vloss=0.15825 | train_entropy=-14.42660 | train_reward=5.26753 | std_train_reward=1.40606 \n",
            "[INFO]  | valid_epoch=20 | valid_loss=0.82907 | valid_ploss=0.58683 | valid_vloss=0.25628 | valid_entropy=-14.04203 | valid_reward=6.45938 | std_valid_reward=1.33224 \n",
            "[INFO]  Save models to ../../data/ml1m/preprocessed/pgpr/tmp/train_agent/policy_model_epoch_20.ckpt\n",
            "[INFO]  | train_epoch=21 | train_loss=0.98464 | train_ploss=0.71270 | train_vloss=0.28564 | train_entropy=-13.70315 | train_reward=6.10961 | std_train_reward=1.40810 \n",
            "[INFO]  | train_epoch=22 | train_loss=-0.74912 | train_ploss=-0.85342 | train_vloss=0.11837 | train_entropy=-14.06987 | train_reward=3.62448 | std_train_reward=1.49129 \n",
            "[INFO]  | train_epoch=23 | train_loss=0.13809 | train_ploss=-0.02306 | train_vloss=0.17516 | train_entropy=-14.01387 | train_reward=4.99337 | std_train_reward=1.41127 \n",
            "[INFO]  | train_epoch=24 | train_loss=0.57485 | train_ploss=0.43153 | train_vloss=0.15747 | train_entropy=-14.14630 | train_reward=5.69806 | std_train_reward=1.41899 \n",
            "[INFO]  | train_epoch=25 | train_loss=-0.42805 | train_ploss=-0.58818 | train_vloss=0.17375 | train_entropy=-13.61681 | train_reward=3.97287 | std_train_reward=1.49476 \n",
            "[INFO]  | train_epoch=26 | train_loss=0.98876 | train_ploss=0.81037 | train_vloss=0.19233 | train_entropy=-13.95160 | train_reward=5.88185 | std_train_reward=1.49326 \n",
            "[INFO]  | train_epoch=27 | train_loss=-0.89566 | train_ploss=-1.03467 | train_vloss=0.15351 | train_entropy=-14.50813 | train_reward=3.21352 | std_train_reward=1.42784 \n",
            "[INFO]  | train_epoch=28 | train_loss=-0.04600 | train_ploss=-0.18309 | train_vloss=0.15075 | train_entropy=-13.66260 | train_reward=4.75515 | std_train_reward=1.44036 \n",
            "[INFO]  | train_epoch=29 | train_loss=0.17848 | train_ploss=-0.00994 | train_vloss=0.20249 | train_entropy=-14.07223 | train_reward=4.98998 | std_train_reward=1.42285 \n",
            "[INFO]  | train_epoch=30 | train_loss=0.90254 | train_ploss=0.69444 | train_vloss=0.22220 | train_entropy=-14.09331 | train_reward=6.12840 | std_train_reward=1.37036 \n",
            "[INFO]  | valid_epoch=30 | valid_loss=0.30623 | valid_ploss=0.07005 | valid_vloss=0.24998 | valid_entropy=-13.80418 | valid_reward=5.37360 | std_valid_reward=1.56666 \n",
            "[INFO]  Save models to ../../data/ml1m/preprocessed/pgpr/tmp/train_agent/policy_model_epoch_30.ckpt\n",
            "[INFO]  | train_epoch=31 | train_loss=-0.17289 | train_ploss=-0.33650 | train_vloss=0.17775 | train_entropy=-14.12888 | train_reward=4.69016 | std_train_reward=1.40039 \n",
            "[INFO]  | train_epoch=32 | train_loss=0.43652 | train_ploss=0.28482 | train_vloss=0.16609 | train_entropy=-14.39384 | train_reward=5.49834 | std_train_reward=1.38008 \n",
            "[INFO]  | train_epoch=33 | train_loss=0.73457 | train_ploss=0.50318 | train_vloss=0.24609 | train_entropy=-14.69535 | train_reward=6.31570 | std_train_reward=1.44794 \n",
            "[INFO]  | train_epoch=34 | train_loss=1.49071 | train_ploss=1.23276 | train_vloss=0.27175 | train_entropy=-13.80140 | train_reward=7.55459 | std_train_reward=1.45474 \n",
            "[INFO]  | train_epoch=35 | train_loss=1.04690 | train_ploss=0.85626 | train_vloss=0.20434 | train_entropy=-13.69448 | train_reward=6.35152 | std_train_reward=1.39147 \n",
            "[INFO]  | train_epoch=36 | train_loss=-0.41438 | train_ploss=-0.55237 | train_vloss=0.15207 | train_entropy=-14.07985 | train_reward=4.20337 | std_train_reward=1.53842 \n",
            "[INFO]  | train_epoch=37 | train_loss=1.04093 | train_ploss=0.77610 | train_vloss=0.27864 | train_entropy=-13.81398 | train_reward=6.88584 | std_train_reward=1.35164 \n",
            "[INFO]  | train_epoch=38 | train_loss=0.51802 | train_ploss=0.33686 | train_vloss=0.19516 | train_entropy=-13.99908 | train_reward=5.73320 | std_train_reward=1.45498 \n",
            "[INFO]  | train_epoch=39 | train_loss=-0.32488 | train_ploss=-0.46551 | train_vloss=0.15458 | train_entropy=-13.94617 | train_reward=4.23255 | std_train_reward=1.44100 \n",
            "[INFO]  | train_epoch=40 | train_loss=-0.01352 | train_ploss=-0.17329 | train_vloss=0.17378 | train_entropy=-14.00938 | train_reward=5.11177 | std_train_reward=1.42085 \n",
            "[INFO]  | valid_epoch=40 | valid_loss=0.58370 | valid_ploss=0.40935 | valid_vloss=0.18809 | valid_entropy=-13.74094 | valid_reward=6.10914 | std_valid_reward=1.40536 \n",
            "[INFO]  Save models to ../../data/ml1m/preprocessed/pgpr/tmp/train_agent/policy_model_epoch_40.ckpt\n",
            " 25% 1/4 [17:53<53:40, 1073.66s/it]Executing job 2/4:  {'act_dropout': 0, 'batch_size': 32, 'dataset': 'ml1m', 'do_validation': True, 'ent_weight': 0.001, 'epochs': 40, 'gamma': 0.99, 'gpu': '0', 'hidden': [128, 64], 'lr': 0.0001, 'max_acts': 250, 'max_path_len': 3, 'name': 'train_agent', 'seed': 123, 'state_history': 1, 'wandb': False, 'wandb_entity': None}\n",
            "[INFO]  Namespace(dataset='ml1m', name='train_agent', seed=123, gpu='0', epochs=40, batch_size=32, lr=0.0001, max_acts=250, max_path_len=3, gamma=0.99, ent_weight=0.001, act_dropout=0.0, state_history=1, hidden=[128, 64], do_validation=True, wandb=False, wandb_entity=None, device='cpu', log_dir='../../data/ml1m/preprocessed/pgpr/tmp/train_agent')\n",
            "Load embedding: ../../data/ml1m/preprocessed/pgpr/tmp/transe_embed.pkl\n",
            "Load embedding: ../../data/ml1m/preprocessed/pgpr/tmp/transe_embed.pkl\n",
            "[INFO]  Parameters:['l1.weight', 'l1.bias', 'l2.weight', 'l2.bias', 'actor.weight', 'actor.bias', 'critic.weight', 'critic.bias']\n",
            "[INFO]  | train_epoch=1 | train_loss=1.05131 | train_ploss=0.82649 | train_vloss=0.23886 | train_entropy=-14.03884 | train_reward=6.00662 | std_train_reward=1.32573 \n",
            "[INFO]  | train_epoch=2 | train_loss=0.77739 | train_ploss=0.54409 | train_vloss=0.24714 | train_entropy=-13.84278 | train_reward=5.27136 | std_train_reward=1.36302 \n",
            "[INFO]  | train_epoch=3 | train_loss=0.39732 | train_ploss=0.27039 | train_vloss=0.14114 | train_entropy=-14.21688 | train_reward=5.48552 | std_train_reward=1.52099 \n",
            "[INFO]  | train_epoch=4 | train_loss=0.39244 | train_ploss=0.18673 | train_vloss=0.21964 | train_entropy=-13.93008 | train_reward=5.46748 | std_train_reward=1.52823 \n",
            "[INFO]  | train_epoch=5 | train_loss=-0.05827 | train_ploss=-0.19971 | train_vloss=0.15509 | train_entropy=-13.63988 | train_reward=4.70739 | std_train_reward=1.39033 \n",
            "[INFO]  | train_epoch=6 | train_loss=-0.11095 | train_ploss=-0.21964 | train_vloss=0.12191 | train_entropy=-13.22985 | train_reward=4.09182 | std_train_reward=1.34823 \n",
            "[INFO]  | train_epoch=7 | train_loss=-0.31896 | train_ploss=-0.45643 | train_vloss=0.15198 | train_entropy=-14.51165 | train_reward=3.79130 | std_train_reward=1.44107 \n",
            "[INFO]  | train_epoch=8 | train_loss=-0.51078 | train_ploss=-0.66959 | train_vloss=0.17297 | train_entropy=-14.15174 | train_reward=3.72351 | std_train_reward=1.47539 \n",
            "[INFO]  | train_epoch=9 | train_loss=-0.18578 | train_ploss=-0.35698 | train_vloss=0.18504 | train_entropy=-13.84791 | train_reward=3.82825 | std_train_reward=1.30979 \n",
            "[INFO]  | train_epoch=10 | train_loss=-0.19051 | train_ploss=-0.34919 | train_vloss=0.17290 | train_entropy=-14.21857 | train_reward=4.46298 | std_train_reward=1.31416 \n",
            "[INFO]  | valid_epoch=10 | valid_loss=-0.30530 | valid_ploss=-0.43470 | valid_vloss=0.14314 | valid_entropy=-13.74419 | valid_reward=3.97638 | std_valid_reward=1.44662 \n",
            "[INFO]  Save models to ../../data/ml1m/preprocessed/pgpr/tmp/train_agent/policy_model_epoch_10.ckpt\n",
            "[INFO]  | train_epoch=11 | train_loss=0.69467 | train_ploss=0.50912 | train_vloss=0.19949 | train_entropy=-13.94077 | train_reward=5.83463 | std_train_reward=1.34645 \n",
            "[INFO]  | train_epoch=12 | train_loss=1.00197 | train_ploss=0.71263 | train_vloss=0.30351 | train_entropy=-14.17289 | train_reward=6.01934 | std_train_reward=1.46868 \n",
            "[INFO]  | train_epoch=13 | train_loss=-0.30029 | train_ploss=-0.51574 | train_vloss=0.22925 | train_entropy=-13.79413 | train_reward=3.91569 | std_train_reward=1.34456 \n",
            "[INFO]  | train_epoch=14 | train_loss=0.17115 | train_ploss=-0.00427 | train_vloss=0.19010 | train_entropy=-14.67819 | train_reward=4.94672 | std_train_reward=1.42001 \n",
            "[INFO]  | train_epoch=15 | train_loss=0.09717 | train_ploss=-0.03447 | train_vloss=0.14499 | train_entropy=-13.35285 | train_reward=4.64409 | std_train_reward=1.39161 \n",
            "[INFO]  | train_epoch=16 | train_loss=0.65405 | train_ploss=0.44338 | train_vloss=0.22455 | train_entropy=-13.88084 | train_reward=5.56271 | std_train_reward=1.29446 \n",
            "[INFO]  | train_epoch=17 | train_loss=0.01564 | train_ploss=-0.23464 | train_vloss=0.26493 | train_entropy=-14.65304 | train_reward=4.78221 | std_train_reward=1.33721 \n",
            "[INFO]  | train_epoch=18 | train_loss=1.31683 | train_ploss=1.10560 | train_vloss=0.22527 | train_entropy=-14.04090 | train_reward=6.55415 | std_train_reward=1.37195 \n",
            "[INFO]  | train_epoch=19 | train_loss=0.66966 | train_ploss=0.43952 | train_vloss=0.24473 | train_entropy=-14.58841 | train_reward=5.79658 | std_train_reward=1.37518 \n",
            "[INFO]  | train_epoch=20 | train_loss=0.88023 | train_ploss=0.63142 | train_vloss=0.26295 | train_entropy=-14.12957 | train_reward=5.92711 | std_train_reward=1.36186 \n",
            "[INFO]  | valid_epoch=20 | valid_loss=0.14163 | valid_ploss=-0.01462 | valid_vloss=0.17042 | valid_entropy=-14.16450 | valid_reward=4.64804 | std_valid_reward=1.34888 \n",
            "[INFO]  Save models to ../../data/ml1m/preprocessed/pgpr/tmp/train_agent/policy_model_epoch_20.ckpt\n",
            "[INFO]  | train_epoch=21 | train_loss=0.48320 | train_ploss=0.30506 | train_vloss=0.19215 | train_entropy=-14.00936 | train_reward=5.23685 | std_train_reward=1.42065 \n",
            "[INFO]  | train_epoch=22 | train_loss=0.71602 | train_ploss=0.54147 | train_vloss=0.18848 | train_entropy=-13.92852 | train_reward=6.24615 | std_train_reward=1.44065 \n",
            "[INFO]  | train_epoch=23 | train_loss=1.03768 | train_ploss=0.72014 | train_vloss=0.33145 | train_entropy=-13.90173 | train_reward=6.57594 | std_train_reward=1.41004 \n",
            "[INFO]  | train_epoch=24 | train_loss=0.13613 | train_ploss=-0.03854 | train_vloss=0.18884 | train_entropy=-14.17154 | train_reward=5.13634 | std_train_reward=1.41891 \n",
            "[INFO]  | train_epoch=25 | train_loss=1.38929 | train_ploss=1.09836 | train_vloss=0.30460 | train_entropy=-13.67558 | train_reward=6.86383 | std_train_reward=1.41588 \n",
            "[INFO]  | train_epoch=26 | train_loss=0.99760 | train_ploss=0.79597 | train_vloss=0.21557 | train_entropy=-13.94437 | train_reward=6.20212 | std_train_reward=1.48254 \n",
            "[INFO]  | train_epoch=27 | train_loss=0.12242 | train_ploss=-0.07617 | train_vloss=0.21285 | train_entropy=-14.26569 | train_reward=4.97551 | std_train_reward=1.58167 \n",
            "[INFO]  | train_epoch=28 | train_loss=1.68592 | train_ploss=1.35710 | train_vloss=0.34250 | train_entropy=-13.68473 | train_reward=7.57139 | std_train_reward=1.52010 \n",
            "[INFO]  | train_epoch=29 | train_loss=-0.23577 | train_ploss=-0.35688 | train_vloss=0.13544 | train_entropy=-14.32777 | train_reward=4.27762 | std_train_reward=1.43822 \n",
            "[INFO]  | train_epoch=30 | train_loss=1.01682 | train_ploss=0.83242 | train_vloss=0.19846 | train_entropy=-14.06325 | train_reward=5.84284 | std_train_reward=1.38163 \n",
            "[INFO]  | valid_epoch=30 | valid_loss=1.32325 | valid_ploss=1.07615 | valid_vloss=0.26074 | valid_entropy=-13.63229 | valid_reward=6.78676 | std_valid_reward=1.32035 \n",
            "[INFO]  Save models to ../../data/ml1m/preprocessed/pgpr/tmp/train_agent/policy_model_epoch_30.ckpt\n",
            "[INFO]  | train_epoch=31 | train_loss=0.57147 | train_ploss=0.34270 | train_vloss=0.24284 | train_entropy=-14.06292 | train_reward=5.72722 | std_train_reward=1.46526 \n",
            "[INFO]  | train_epoch=32 | train_loss=-0.47693 | train_ploss=-0.60846 | train_vloss=0.14545 | train_entropy=-13.91326 | train_reward=3.83006 | std_train_reward=1.34838 \n",
            "[INFO]  | train_epoch=33 | train_loss=-0.08871 | train_ploss=-0.24428 | train_vloss=0.17001 | train_entropy=-14.43086 | train_reward=4.57323 | std_train_reward=1.28605 \n",
            "[INFO]  | train_epoch=34 | train_loss=0.77784 | train_ploss=0.59596 | train_vloss=0.19563 | train_entropy=-13.74680 | train_reward=6.21870 | std_train_reward=1.48221 \n",
            "[INFO]  | train_epoch=35 | train_loss=0.06399 | train_ploss=-0.15407 | train_vloss=0.23199 | train_entropy=-13.93257 | train_reward=4.81325 | std_train_reward=1.31791 \n",
            "[INFO]  | train_epoch=36 | train_loss=-1.03041 | train_ploss=-1.16741 | train_vloss=0.15150 | train_entropy=-14.49859 | train_reward=3.07442 | std_train_reward=1.45344 \n",
            "[INFO]  | train_epoch=37 | train_loss=0.90285 | train_ploss=0.68939 | train_vloss=0.22743 | train_entropy=-13.97313 | train_reward=6.14629 | std_train_reward=1.37886 \n",
            "[INFO]  | train_epoch=38 | train_loss=1.04624 | train_ploss=0.76329 | train_vloss=0.29713 | train_entropy=-14.18032 | train_reward=6.43953 | std_train_reward=1.36452 \n",
            "[INFO]  | train_epoch=39 | train_loss=-0.70922 | train_ploss=-0.87209 | train_vloss=0.17703 | train_entropy=-14.16141 | train_reward=3.53897 | std_train_reward=1.40959 \n",
            "[INFO]  | train_epoch=40 | train_loss=0.10353 | train_ploss=-0.07264 | train_vloss=0.19003 | train_entropy=-13.86468 | train_reward=5.21340 | std_train_reward=1.45106 \n",
            "[INFO]  | valid_epoch=40 | valid_loss=-0.37032 | valid_ploss=-0.50662 | valid_vloss=0.14977 | valid_entropy=-13.47669 | valid_reward=3.75660 | std_valid_reward=1.45277 \n",
            "[INFO]  Save models to ../../data/ml1m/preprocessed/pgpr/tmp/train_agent/policy_model_epoch_40.ckpt\n",
            " 50% 2/4 [34:57<34:48, 1044.22s/it]Executing job 3/4:  {'act_dropout': 0, 'batch_size': 32, 'dataset': 'ml1m', 'do_validation': True, 'ent_weight': 0.01, 'epochs': 40, 'gamma': 0.99, 'gpu': '0', 'hidden': [512, 256], 'lr': 0.0001, 'max_acts': 250, 'max_path_len': 3, 'name': 'train_agent', 'seed': 123, 'state_history': 1, 'wandb': False, 'wandb_entity': None}\n",
            "[INFO]  Namespace(dataset='ml1m', name='train_agent', seed=123, gpu='0', epochs=40, batch_size=32, lr=0.0001, max_acts=250, max_path_len=3, gamma=0.99, ent_weight=0.01, act_dropout=0.0, state_history=1, hidden=[512, 256], do_validation=True, wandb=False, wandb_entity=None, device='cpu', log_dir='../../data/ml1m/preprocessed/pgpr/tmp/train_agent')\n",
            "Load embedding: ../../data/ml1m/preprocessed/pgpr/tmp/transe_embed.pkl\n",
            "Load embedding: ../../data/ml1m/preprocessed/pgpr/tmp/transe_embed.pkl\n",
            "[INFO]  Parameters:['l1.weight', 'l1.bias', 'l2.weight', 'l2.bias', 'actor.weight', 'actor.bias', 'critic.weight', 'critic.bias']\n",
            "[INFO]  | train_epoch=1 | train_loss=-0.40640 | train_ploss=-0.47202 | train_vloss=0.20592 | train_entropy=-14.03016 | train_reward=3.67929 | std_train_reward=1.43430 \n",
            "[INFO]  | train_epoch=2 | train_loss=0.00070 | train_ploss=-0.00742 | train_vloss=0.14754 | train_entropy=-13.94192 | train_reward=4.23281 | std_train_reward=1.37938 \n",
            "[INFO]  | train_epoch=3 | train_loss=2.16553 | train_ploss=1.95651 | train_vloss=0.35572 | train_entropy=-14.66987 | train_reward=8.50787 | std_train_reward=1.41457 \n",
            "[INFO]  | train_epoch=4 | train_loss=-0.72599 | train_ploss=-0.72854 | train_vloss=0.14229 | train_entropy=-13.97392 | train_reward=3.83968 | std_train_reward=1.43710 \n",
            "[INFO]  | train_epoch=5 | train_loss=0.27843 | train_ploss=0.21164 | train_vloss=0.20895 | train_entropy=-14.21516 | train_reward=5.70771 | std_train_reward=1.40181 \n",
            "[INFO]  | train_epoch=6 | train_loss=-1.35627 | train_ploss=-1.32888 | train_vloss=0.10459 | train_entropy=-13.19749 | train_reward=2.16575 | std_train_reward=1.43143 \n",
            "[INFO]  | train_epoch=7 | train_loss=0.05663 | train_ploss=0.06965 | train_vloss=0.13252 | train_entropy=-14.55500 | train_reward=4.91333 | std_train_reward=1.53712 \n",
            "[INFO]  | train_epoch=8 | train_loss=-0.18062 | train_ploss=-0.23163 | train_vloss=0.19302 | train_entropy=-14.19998 | train_reward=4.55222 | std_train_reward=1.46337 \n",
            "[INFO]  | train_epoch=9 | train_loss=-0.79357 | train_ploss=-0.79919 | train_vloss=0.14400 | train_entropy=-13.83758 | train_reward=3.17785 | std_train_reward=1.52005 \n",
            "[INFO]  | train_epoch=10 | train_loss=0.21728 | train_ploss=0.13150 | train_vloss=0.22681 | train_entropy=-14.10416 | train_reward=5.52170 | std_train_reward=1.36722 \n",
            "[INFO]  | valid_epoch=10 | valid_loss=0.55344 | valid_ploss=0.38363 | valid_vloss=0.30559 | valid_entropy=-13.57772 | valid_reward=6.01628 | std_valid_reward=1.49367 \n",
            "[INFO]  Save models to ../../data/ml1m/preprocessed/pgpr/tmp/train_agent/policy_model_epoch_10.ckpt\n",
            "[INFO]  | train_epoch=11 | train_loss=0.15304 | train_ploss=0.14561 | train_vloss=0.14632 | train_entropy=-13.88880 | train_reward=5.43108 | std_train_reward=1.41177 \n",
            "[INFO]  | train_epoch=12 | train_loss=0.20517 | train_ploss=0.17656 | train_vloss=0.16819 | train_entropy=-13.95824 | train_reward=4.81944 | std_train_reward=1.44840 \n",
            "[INFO]  | train_epoch=13 | train_loss=1.44148 | train_ploss=1.37645 | train_vloss=0.20339 | train_entropy=-13.83680 | train_reward=7.02625 | std_train_reward=1.41751 \n",
            "[INFO]  | train_epoch=14 | train_loss=-0.60215 | train_ploss=-0.54245 | train_vloss=0.08214 | train_entropy=-14.18453 | train_reward=4.04123 | std_train_reward=1.50996 \n",
            "[INFO]  | train_epoch=15 | train_loss=0.13685 | train_ploss=0.08696 | train_vloss=0.18776 | train_entropy=-13.78722 | train_reward=5.03068 | std_train_reward=1.36678 \n",
            "[INFO]  | train_epoch=16 | train_loss=-0.00248 | train_ploss=-0.10976 | train_vloss=0.24527 | train_entropy=-13.79878 | train_reward=4.52228 | std_train_reward=1.38681 \n",
            "[INFO]  | train_epoch=17 | train_loss=-0.22854 | train_ploss=-0.30329 | train_vloss=0.21693 | train_entropy=-14.21884 | train_reward=5.51299 | std_train_reward=1.45059 \n",
            "[INFO]  | train_epoch=18 | train_loss=0.03947 | train_ploss=0.02728 | train_vloss=0.14911 | train_entropy=-13.69122 | train_reward=5.01557 | std_train_reward=1.47207 \n",
            "[INFO]  | train_epoch=19 | train_loss=0.60775 | train_ploss=0.58902 | train_vloss=0.16369 | train_entropy=-14.49659 | train_reward=6.10365 | std_train_reward=1.36375 \n",
            "[INFO]  | train_epoch=20 | train_loss=0.01875 | train_ploss=0.00390 | train_vloss=0.15916 | train_entropy=-14.43000 | train_reward=5.26753 | std_train_reward=1.39712 \n",
            "[INFO]  | valid_epoch=20 | valid_loss=0.70901 | valid_ploss=0.59219 | valid_vloss=0.25729 | valid_entropy=-14.04708 | valid_reward=6.45938 | std_valid_reward=1.36124 \n",
            "[INFO]  Save models to ../../data/ml1m/preprocessed/pgpr/tmp/train_agent/policy_model_epoch_20.ckpt\n",
            "[INFO]  | train_epoch=21 | train_loss=1.10555 | train_ploss=0.93065 | train_vloss=0.31193 | train_entropy=-13.70259 | train_reward=6.70340 | std_train_reward=1.41417 \n",
            "[INFO]  | train_epoch=22 | train_loss=-0.81842 | train_ploss=-0.79439 | train_vloss=0.11673 | train_entropy=-14.07517 | train_reward=3.69780 | std_train_reward=1.46809 \n",
            "[INFO]  | train_epoch=23 | train_loss=0.01838 | train_ploss=-0.01680 | train_vloss=0.17537 | train_entropy=-14.01926 | train_reward=4.99337 | std_train_reward=1.43081 \n",
            "[INFO]  | train_epoch=24 | train_loss=0.42374 | train_ploss=0.40801 | train_vloss=0.15724 | train_entropy=-14.15173 | train_reward=5.69806 | std_train_reward=1.41387 \n",
            "[INFO]  | train_epoch=25 | train_loss=-0.53024 | train_ploss=-0.56782 | train_vloss=0.17383 | train_entropy=-13.62463 | train_reward=3.97287 | std_train_reward=1.51412 \n",
            "[INFO]  | train_epoch=26 | train_loss=0.89868 | train_ploss=0.84577 | train_vloss=0.19250 | train_entropy=-13.95911 | train_reward=5.88185 | std_train_reward=1.50198 \n",
            "[INFO]  | train_epoch=27 | train_loss=-1.02538 | train_ploss=-1.03356 | train_vloss=0.15333 | train_entropy=-14.51581 | train_reward=3.21352 | std_train_reward=1.43502 \n",
            "[INFO]  | train_epoch=28 | train_loss=-0.14667 | train_ploss=-0.16038 | train_vloss=0.15043 | train_entropy=-13.67226 | train_reward=4.75515 | std_train_reward=1.44058 \n",
            "[INFO]  | train_epoch=29 | train_loss=0.06203 | train_ploss=0.00035 | train_vloss=0.20249 | train_entropy=-14.08130 | train_reward=4.98998 | std_train_reward=1.42043 \n",
            "[INFO]  | train_epoch=30 | train_loss=0.88944 | train_ploss=0.81095 | train_vloss=0.21978 | train_entropy=-14.12893 | train_reward=6.30631 | std_train_reward=1.37075 \n",
            "[INFO]  | valid_epoch=30 | valid_loss=0.16524 | valid_ploss=0.05364 | valid_vloss=0.24975 | valid_entropy=-13.81519 | valid_reward=5.37360 | std_valid_reward=1.52400 \n",
            "[INFO]  Save models to ../../data/ml1m/preprocessed/pgpr/tmp/train_agent/policy_model_epoch_30.ckpt\n",
            "[INFO]  | train_epoch=31 | train_loss=-0.40416 | train_ploss=-0.43578 | train_vloss=0.17357 | train_entropy=-14.19464 | train_reward=4.53905 | std_train_reward=1.36922 \n",
            "[INFO]  | train_epoch=32 | train_loss=0.32757 | train_ploss=0.30548 | train_vloss=0.16570 | train_entropy=-14.36054 | train_reward=5.53934 | std_train_reward=1.39804 \n",
            "[INFO]  | train_epoch=33 | train_loss=0.62180 | train_ploss=0.52291 | train_vloss=0.24596 | train_entropy=-14.70678 | train_reward=6.31570 | std_train_reward=1.44356 \n",
            "[INFO]  | train_epoch=34 | train_loss=1.31988 | train_ploss=1.18527 | train_vloss=0.27276 | train_entropy=-13.81456 | train_reward=7.43272 | std_train_reward=1.42876 \n",
            "[INFO]  | train_epoch=35 | train_loss=0.51225 | train_ploss=0.48491 | train_vloss=0.16428 | train_entropy=-13.69380 | train_reward=5.56359 | std_train_reward=1.33883 \n",
            "[INFO]  | train_epoch=36 | train_loss=-0.54123 | train_ploss=-0.55264 | train_vloss=0.15233 | train_entropy=-14.09257 | train_reward=4.20337 | std_train_reward=1.54227 \n",
            "[INFO]  | train_epoch=37 | train_loss=0.91394 | train_ploss=0.77309 | train_vloss=0.27912 | train_entropy=-13.82741 | train_reward=6.88584 | std_train_reward=1.32610 \n",
            "[INFO]  | train_epoch=38 | train_loss=0.38456 | train_ploss=0.33044 | train_vloss=0.19423 | train_entropy=-14.01146 | train_reward=5.73320 | std_train_reward=1.44309 \n",
            "[INFO]  | train_epoch=39 | train_loss=-0.63808 | train_ploss=-0.64356 | train_vloss=0.14534 | train_entropy=-13.98639 | train_reward=3.96268 | std_train_reward=1.43704 \n",
            "[INFO]  | train_epoch=40 | train_loss=-0.13545 | train_ploss=-0.16834 | train_vloss=0.17313 | train_entropy=-14.02336 | train_reward=5.11177 | std_train_reward=1.40423 \n",
            "[INFO]  | valid_epoch=40 | valid_loss=0.46687 | valid_ploss=0.41625 | valid_vloss=0.18818 | valid_entropy=-13.75592 | valid_reward=6.10914 | std_valid_reward=1.38487 \n",
            "[INFO]  Save models to ../../data/ml1m/preprocessed/pgpr/tmp/train_agent/policy_model_epoch_40.ckpt\n",
            " 75% 3/4 [52:38<17:32, 1052.19s/it]Executing job 4/4:  {'act_dropout': 0, 'batch_size': 32, 'dataset': 'ml1m', 'do_validation': True, 'ent_weight': 0.01, 'epochs': 40, 'gamma': 0.99, 'gpu': '0', 'hidden': [128, 64], 'lr': 0.0001, 'max_acts': 250, 'max_path_len': 3, 'name': 'train_agent', 'seed': 123, 'state_history': 1, 'wandb': False, 'wandb_entity': None}\n",
            "[INFO]  Namespace(dataset='ml1m', name='train_agent', seed=123, gpu='0', epochs=40, batch_size=32, lr=0.0001, max_acts=250, max_path_len=3, gamma=0.99, ent_weight=0.01, act_dropout=0.0, state_history=1, hidden=[128, 64], do_validation=True, wandb=False, wandb_entity=None, device='cpu', log_dir='../../data/ml1m/preprocessed/pgpr/tmp/train_agent')\n",
            "Load embedding: ../../data/ml1m/preprocessed/pgpr/tmp/transe_embed.pkl\n",
            "Load embedding: ../../data/ml1m/preprocessed/pgpr/tmp/transe_embed.pkl\n",
            "[INFO]  Parameters:['l1.weight', 'l1.bias', 'l2.weight', 'l2.bias', 'actor.weight', 'actor.bias', 'critic.weight', 'critic.bias']\n",
            "[INFO]  | train_epoch=1 | train_loss=0.92501 | train_ploss=0.82655 | train_vloss=0.23885 | train_entropy=-14.03887 | train_reward=6.00662 | std_train_reward=1.32579 \n",
            "[INFO]  | train_epoch=2 | train_loss=0.65437 | train_ploss=0.54565 | train_vloss=0.24715 | train_entropy=-13.84285 | train_reward=5.27136 | std_train_reward=1.36042 \n",
            "[INFO]  | train_epoch=3 | train_loss=0.26633 | train_ploss=0.26726 | train_vloss=0.14123 | train_entropy=-14.21697 | train_reward=5.48552 | std_train_reward=1.52882 \n",
            "[INFO]  | train_epoch=4 | train_loss=0.26678 | train_ploss=0.18660 | train_vloss=0.21948 | train_entropy=-13.93022 | train_reward=5.46748 | std_train_reward=1.52787 \n",
            "[INFO]  | train_epoch=5 | train_loss=-0.18150 | train_ploss=-0.19997 | train_vloss=0.15487 | train_entropy=-13.64006 | train_reward=4.70739 | std_train_reward=1.39089 \n",
            "[INFO]  | train_epoch=6 | train_loss=-0.23339 | train_ploss=-0.22304 | train_vloss=0.12195 | train_entropy=-13.23008 | train_reward=4.09182 | std_train_reward=1.33727 \n",
            "[INFO]  | train_epoch=7 | train_loss=-0.44395 | train_ploss=-0.45071 | train_vloss=0.15187 | train_entropy=-14.51192 | train_reward=3.79130 | std_train_reward=1.43631 \n",
            "[INFO]  | train_epoch=8 | train_loss=-0.63657 | train_ploss=-0.66809 | train_vloss=0.17303 | train_entropy=-14.15202 | train_reward=3.72351 | std_train_reward=1.46493 \n",
            "[INFO]  | train_epoch=9 | train_loss=-0.30603 | train_ploss=-0.35262 | train_vloss=0.18508 | train_entropy=-13.84830 | train_reward=3.82825 | std_train_reward=1.30694 \n",
            "[INFO]  | train_epoch=10 | train_loss=-0.31765 | train_ploss=-0.34837 | train_vloss=0.17291 | train_entropy=-14.21891 | train_reward=4.46298 | std_train_reward=1.31267 \n",
            "[INFO]  | valid_epoch=10 | valid_loss=-0.42561 | valid_ploss=-0.43116 | valid_vloss=0.14299 | valid_entropy=-13.74460 | valid_reward=3.97638 | std_valid_reward=1.45534 \n",
            "[INFO]  Save models to ../../data/ml1m/preprocessed/pgpr/tmp/train_agent/policy_model_epoch_10.ckpt\n",
            "[INFO]  | train_epoch=11 | train_loss=0.57208 | train_ploss=0.51197 | train_vloss=0.19952 | train_entropy=-13.94119 | train_reward=5.83463 | std_train_reward=1.34694 \n",
            "[INFO]  | train_epoch=12 | train_loss=0.88279 | train_ploss=0.72096 | train_vloss=0.30356 | train_entropy=-14.17341 | train_reward=6.01934 | std_train_reward=1.46575 \n",
            "[INFO]  | train_epoch=13 | train_loss=-0.42167 | train_ploss=-0.51305 | train_vloss=0.22933 | train_entropy=-13.79472 | train_reward=3.91569 | std_train_reward=1.34458 \n",
            "[INFO]  | train_epoch=14 | train_loss=0.03975 | train_ploss=-0.00356 | train_vloss=0.19010 | train_entropy=-14.67881 | train_reward=4.94672 | std_train_reward=1.40560 \n",
            "[INFO]  | train_epoch=15 | train_loss=-0.01755 | train_ploss=-0.02882 | train_vloss=0.14481 | train_entropy=-13.35365 | train_reward=4.64409 | std_train_reward=1.39979 \n",
            "[INFO]  | train_epoch=16 | train_loss=0.83275 | train_ploss=0.73616 | train_vloss=0.23473 | train_entropy=-13.81366 | train_reward=6.13194 | std_train_reward=1.29304 \n",
            "[INFO]  | train_epoch=17 | train_loss=-0.06432 | train_ploss=-0.17810 | train_vloss=0.26032 | train_entropy=-14.65379 | train_reward=4.88476 | std_train_reward=1.33286 \n",
            "[INFO]  | train_epoch=18 | train_loss=1.18291 | train_ploss=1.09835 | train_vloss=0.22498 | train_entropy=-14.04177 | train_reward=6.55415 | std_train_reward=1.37863 \n",
            "[INFO]  | train_epoch=19 | train_loss=0.53990 | train_ploss=0.44052 | train_vloss=0.24527 | train_entropy=-14.58932 | train_reward=5.79658 | std_train_reward=1.38724 \n",
            "[INFO]  | train_epoch=20 | train_loss=0.74696 | train_ploss=0.62522 | train_vloss=0.26304 | train_entropy=-14.13056 | train_reward=5.92711 | std_train_reward=1.37962 \n",
            "[INFO]  | valid_epoch=20 | valid_loss=0.01718 | valid_ploss=-0.01176 | valid_vloss=0.17060 | valid_entropy=-14.16570 | valid_reward=4.64804 | std_valid_reward=1.33067 \n",
            "[INFO]  Save models to ../../data/ml1m/preprocessed/pgpr/tmp/train_agent/policy_model_epoch_20.ckpt\n",
            "[INFO]  | train_epoch=21 | train_loss=0.24811 | train_ploss=0.19012 | train_vloss=0.19830 | train_entropy=-14.03089 | train_reward=5.04533 | std_train_reward=1.43373 \n",
            "[INFO]  | train_epoch=22 | train_loss=0.59089 | train_ploss=0.54198 | train_vloss=0.18821 | train_entropy=-13.92972 | train_reward=6.24615 | std_train_reward=1.41277 \n",
            "[INFO]  | train_epoch=23 | train_loss=0.91453 | train_ploss=0.72245 | train_vloss=0.33111 | train_entropy=-13.90302 | train_reward=6.57594 | std_train_reward=1.40967 \n",
            "[INFO]  | train_epoch=24 | train_loss=0.01933 | train_ploss=-0.02815 | train_vloss=0.18921 | train_entropy=-14.17314 | train_reward=5.13634 | std_train_reward=1.41230 \n",
            "[INFO]  | train_epoch=25 | train_loss=1.27437 | train_ploss=1.10633 | train_vloss=0.30481 | train_entropy=-13.67716 | train_reward=6.86383 | std_train_reward=1.43100 \n",
            "[INFO]  | train_epoch=26 | train_loss=0.93497 | train_ploss=0.85653 | train_vloss=0.21787 | train_entropy=-13.94347 | train_reward=6.30528 | std_train_reward=1.46919 \n",
            "[INFO]  | train_epoch=27 | train_loss=-0.00423 | train_ploss=-0.07429 | train_vloss=0.21273 | train_entropy=-14.26729 | train_reward=4.97551 | std_train_reward=1.55949 \n",
            "[INFO]  | train_epoch=28 | train_loss=1.56430 | train_ploss=1.35889 | train_vloss=0.34227 | train_entropy=-13.68644 | train_reward=7.57139 | std_train_reward=1.50628 \n",
            "[INFO]  | train_epoch=29 | train_loss=-0.36546 | train_ploss=-0.35747 | train_vloss=0.13531 | train_entropy=-14.32946 | train_reward=4.27762 | std_train_reward=1.44705 \n",
            "[INFO]  | train_epoch=30 | train_loss=0.66720 | train_ploss=0.62035 | train_vloss=0.18787 | train_entropy=-14.10251 | train_reward=5.44314 | std_train_reward=1.36661 \n",
            "[INFO]  | valid_epoch=30 | valid_loss=1.28096 | valid_ploss=1.14542 | valid_vloss=0.27189 | valid_entropy=-13.63439 | valid_reward=6.89687 | std_valid_reward=1.33123 \n",
            "[INFO]  Save models to ../../data/ml1m/preprocessed/pgpr/tmp/train_agent/policy_model_epoch_30.ckpt\n",
            "[INFO]  | train_epoch=31 | train_loss=0.45241 | train_ploss=0.35007 | train_vloss=0.24299 | train_entropy=-14.06490 | train_reward=5.72722 | std_train_reward=1.45688 \n",
            "[INFO]  | train_epoch=32 | train_loss=-0.65022 | train_ploss=-0.66271 | train_vloss=0.15016 | train_entropy=-13.76721 | train_reward=3.67326 | std_train_reward=1.34583 \n",
            "[INFO]  | train_epoch=33 | train_loss=-0.21842 | train_ploss=-0.24392 | train_vloss=0.16983 | train_entropy=-14.43296 | train_reward=4.57323 | std_train_reward=1.27383 \n",
            "[INFO]  | train_epoch=34 | train_loss=0.62983 | train_ploss=0.56848 | train_vloss=0.19860 | train_entropy=-13.72451 | train_reward=6.13212 | std_train_reward=1.47371 \n",
            "[INFO]  | train_epoch=35 | train_loss=-0.05711 | train_ploss=-0.14933 | train_vloss=0.23157 | train_entropy=-13.93484 | train_reward=4.81325 | std_train_reward=1.31785 \n",
            "[INFO]  | train_epoch=36 | train_loss=-1.15253 | train_ploss=-1.15886 | train_vloss=0.15134 | train_entropy=-14.50105 | train_reward=3.07442 | std_train_reward=1.47631 \n",
            "[INFO]  | train_epoch=37 | train_loss=0.77845 | train_ploss=0.69040 | train_vloss=0.22781 | train_entropy=-13.97544 | train_reward=6.14629 | std_train_reward=1.38211 \n",
            "[INFO]  | train_epoch=38 | train_loss=0.92661 | train_ploss=0.77130 | train_vloss=0.29713 | train_entropy=-14.18262 | train_reward=6.43953 | std_train_reward=1.36647 \n",
            "[INFO]  | train_epoch=39 | train_loss=-0.83376 | train_ploss=-0.86922 | train_vloss=0.17709 | train_entropy=-14.16383 | train_reward=3.53897 | std_train_reward=1.39900 \n",
            "[INFO]  | train_epoch=40 | train_loss=-0.26564 | train_ploss=-0.31808 | train_vloss=0.19156 | train_entropy=-13.91233 | train_reward=4.80834 | std_train_reward=1.46909 \n",
            "[INFO]  | valid_epoch=40 | valid_loss=-0.49053 | valid_ploss=-0.50507 | valid_vloss=0.14933 | valid_entropy=-13.47899 | valid_reward=3.75660 | std_valid_reward=1.44616 \n",
            "[INFO]  Save models to ../../data/ml1m/preprocessed/pgpr/tmp/train_agent/policy_model_epoch_40.ckpt\n",
            "100% 4/4 [1:09:25<00:00, 1041.48s/it]\n"
          ]
        }
      ]
    },
    {
      "cell_type": "code",
      "source": [
        "!python3 test.py --model pgpr --dataset ml1m"
      ],
      "metadata": {
        "colab": {
          "base_uri": "https://localhost:8080/"
        },
        "id": "Ht7YJWDEO9dh",
        "outputId": "adf79171-1714-4dc8-d310-41cb0bf9b8f7"
      },
      "execution_count": 30,
      "outputs": [
        {
          "output_type": "stream",
          "name": "stdout",
          "text": [
            "Predicting paths...\n",
            "Load embedding: ../../data/ml1m/preprocessed/pgpr/tmp/transe_embed.pkl\n",
            "/content/rep-path-reasoning-recsys/models/PGPR/test_agent.py:162: FutureWarning: You are using `torch.load` with `weights_only=False` (the current default value), which uses the default pickle module implicitly. It is possible to construct malicious pickle data which will execute arbitrary code during unpickling (See https://github.com/pytorch/pytorch/blob/main/SECURITY.md#untrusted-models for more details). In a future release, the default value for `weights_only` will be flipped to `True`. This limits the functions that could be executed during unpickling. Arbitrary objects will no longer be allowed to be loaded via this mode unless they are explicitly allowlisted by the user via `torch.serialization.add_safe_globals`. We recommend you start setting `weights_only=True` for any use case where you don't have full control of the loaded file. Please open an issue on GitHub for any issues related to this experimental feature.\n",
            "  pretrain_sd = torch.load(policy_file)\n",
            "6048it [13:12,  7.63it/s]\n",
            "Load embedding: ../../data/ml1m/preprocessed/pgpr/tmp/transe_embed.pkl\n",
            "Normalizing items scores...\n",
            "Saving pred_paths...\n",
            "Average test set size:  30.66903973509934\n",
            "Overall for noOfUser=6040, ndcg=0.2705\n",
            "\n",
            "\n",
            "Overall for noOfUser=6040, hr=0.4829\n",
            "\n",
            "\n",
            "Overall for noOfUser=6040, precision=0.0831\n",
            "\n",
            "\n",
            "Overall for noOfUser=6040, recall=0.0404\n",
            "\n",
            "\n"
          ]
        }
      ]
    },
    {
      "cell_type": "code",
      "source": [
        "ls"
      ],
      "metadata": {
        "colab": {
          "base_uri": "https://localhost:8080/"
        },
        "id": "XgMfWO2Ppnz5",
        "outputId": "443c391c-8c80-41af-8a1b-3035770fde90"
      },
      "execution_count": null,
      "outputs": [
        {
          "output_type": "stream",
          "name": "stdout",
          "text": [
            "\u001b[0m\u001b[01;34mbuild\u001b[0m/                    LICENSE                pretrained.zip           setup.py\n",
            "\u001b[01;32mbuild_datasets.sh\u001b[0m*        map_dataset.py         \u001b[01;34m__pycache__\u001b[0m/             statistical_test.py\n",
            "\u001b[01;34mdata\u001b[0m/                     \u001b[01;34mmappers\u001b[0m/               README.md                test.py\n",
            "data.zip                  \u001b[01;34mmodels\u001b[0m/                reasoning_path.py        train.py\n",
            "env_setup.sh              \u001b[01;34mmodels.egg-info\u001b[0m/       reasoning_path_utils.py  utils.py\n",
            "evaluate.py               prepare_datasets.py    rec_quality_metrics.py\n",
            "gridsearch.py             preprocess_dataset.py  requirements.txt\n",
            "knowledge_graph_utils.py  \u001b[01;34mpretrained\u001b[0m/            \u001b[01;34mresults\u001b[0m/\n"
          ]
        }
      ]
    },
    {
      "cell_type": "code",
      "source": [
        "python3 models/CAFE/preprocess.py --dataset lfm1m"
      ],
      "metadata": {
        "id": "FBEJR3Ajpop_"
      },
      "execution_count": null,
      "outputs": []
    },
    {
      "cell_type": "markdown",
      "source": [],
      "metadata": {
        "id": "7W2wW6fL4Haj"
      }
    },
    {
      "cell_type": "markdown",
      "source": [],
      "metadata": {
        "id": "ExgVtuaL4GGs"
      }
    },
    {
      "cell_type": "markdown",
      "source": [],
      "metadata": {
        "id": "UzrJ1hBe4F9G"
      }
    }
  ]
}